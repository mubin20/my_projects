{
 "cells": [
  {
   "cell_type": "markdown",
   "id": "5a593205",
   "metadata": {},
   "source": [
    "## Contents:\n",
    "- 1) [Import Data](#Import-Data)\n",
    "- 2) [Target Vector](#Target-Vector)\n",
    "- 3) [Explore duplicate text](#Explore-duplicate-text)\n",
    "- 4) [Drop duplicate values](#Drop-duplicate-values)   \n",
    "- 5) [Explore and clean text](#Explore-and-clean-text)  \n",
    "- 6) [NLP](#NLP)\n",
    "     <br>  *6.1 [Lemmatize](#Lemmatize)*\n",
    "     <br>  *6.2 [CountVectorizer](#CountVectorizer)*\n",
    "     <br>  *6.3 [n-gram frequency](#n-gram-frequency)*\n",
    "     <br>  *6.4 [TF-IDF Vectorizer](#TF-IDF-Vectorizer)*"
   ]
  },
  {
   "cell_type": "code",
   "execution_count": 77,
   "id": "ac549877",
   "metadata": {},
   "outputs": [],
   "source": [
    "import pandas as pd\n",
    "import numpy as np\n",
    "import re\n",
    "import string\n",
    "\n",
    "from nltk.stem import WordNetLemmatizer\n",
    "from sklearn.feature_extraction.text import CountVectorizer, TfidfVectorizer, TfidfTransformer\n",
    "from sklearn.pipeline import Pipeline\n",
    "from sklearn.naive_bayes import MultinomialNB\n",
    "from sklearn.model_selection import train_test_split, GridSearchCV\n",
    "from sklearn.feature_extraction import text\n",
    "\n",
    "import matplotlib.pyplot as plt\n",
    "from wordcloud import WordCloud"
   ]
  },
  {
   "cell_type": "markdown",
   "id": "773daaba",
   "metadata": {},
   "source": [
    "## Import Data\n",
    "[back to top](#Contents:)"
   ]
  },
  {
   "cell_type": "code",
   "execution_count": 2,
   "id": "e67b2fa0",
   "metadata": {},
   "outputs": [],
   "source": [
    "# import combined comments data set for r/crypto and r/bodyweightfitness\n",
    "df = pd.read_csv('../datasets/combined_comm.csv') "
   ]
  },
  {
   "cell_type": "code",
   "execution_count": 3,
   "id": "92bfc69d",
   "metadata": {},
   "outputs": [
    {
     "data": {
      "text/html": [
       "<div>\n",
       "<style scoped>\n",
       "    .dataframe tbody tr th:only-of-type {\n",
       "        vertical-align: middle;\n",
       "    }\n",
       "\n",
       "    .dataframe tbody tr th {\n",
       "        vertical-align: top;\n",
       "    }\n",
       "\n",
       "    .dataframe thead th {\n",
       "        text-align: right;\n",
       "    }\n",
       "</style>\n",
       "<table border=\"1\" class=\"dataframe\">\n",
       "  <thead>\n",
       "    <tr style=\"text-align: right;\">\n",
       "      <th></th>\n",
       "      <th>body</th>\n",
       "      <th>subreddit</th>\n",
       "    </tr>\n",
       "  </thead>\n",
       "  <tbody>\n",
       "    <tr>\n",
       "      <th>0</th>\n",
       "      <td>Lol. \\n\\n\"AI iS GoInG tO PoStPoNe AlL oUr CaRd...</td>\n",
       "      <td>Crypto_com</td>\n",
       "    </tr>\n",
       "    <tr>\n",
       "      <th>1</th>\n",
       "      <td>Rose gold does not look Like how the website s...</td>\n",
       "      <td>Crypto_com</td>\n",
       "    </tr>\n",
       "    <tr>\n",
       "      <th>2</th>\n",
       "      <td>Is cad -&amp;gt; usdc not 1:1?</td>\n",
       "      <td>Crypto_com</td>\n",
       "    </tr>\n",
       "    <tr>\n",
       "      <th>3</th>\n",
       "      <td>Well said</td>\n",
       "      <td>Crypto_com</td>\n",
       "    </tr>\n",
       "    <tr>\n",
       "      <th>4</th>\n",
       "      <td>Yeah I had my card stolen same thing. Annoying...</td>\n",
       "      <td>Crypto_com</td>\n",
       "    </tr>\n",
       "  </tbody>\n",
       "</table>\n",
       "</div>"
      ],
      "text/plain": [
       "                                                body   subreddit\n",
       "0  Lol. \\n\\n\"AI iS GoInG tO PoStPoNe AlL oUr CaRd...  Crypto_com\n",
       "1  Rose gold does not look Like how the website s...  Crypto_com\n",
       "2                         Is cad -&gt; usdc not 1:1?  Crypto_com\n",
       "3                                          Well said  Crypto_com\n",
       "4  Yeah I had my card stolen same thing. Annoying...  Crypto_com"
      ]
     },
     "execution_count": 3,
     "metadata": {},
     "output_type": "execute_result"
    }
   ],
   "source": [
    "df.head()"
   ]
  },
  {
   "cell_type": "markdown",
   "id": "1c5cf43d",
   "metadata": {},
   "source": [
    "## Target Vector\n",
    "[back to top](#Contents:)"
   ]
  },
  {
   "cell_type": "code",
   "execution_count": 4,
   "id": "34faec4a",
   "metadata": {},
   "outputs": [],
   "source": [
    "# Convert subreddit column to binary.(where subreddit is our target vector)\n",
    "# 'Crypto_com' = 1 and 'bodyweightfitness' = 0\n",
    "\n",
    "df['target'] = df['subreddit'].map({'Crypto_com':1,'bodyweightfitness':0})"
   ]
  },
  {
   "cell_type": "code",
   "execution_count": 5,
   "id": "3930b725",
   "metadata": {},
   "outputs": [
    {
     "data": {
      "text/html": [
       "<div>\n",
       "<style scoped>\n",
       "    .dataframe tbody tr th:only-of-type {\n",
       "        vertical-align: middle;\n",
       "    }\n",
       "\n",
       "    .dataframe tbody tr th {\n",
       "        vertical-align: top;\n",
       "    }\n",
       "\n",
       "    .dataframe thead th {\n",
       "        text-align: right;\n",
       "    }\n",
       "</style>\n",
       "<table border=\"1\" class=\"dataframe\">\n",
       "  <thead>\n",
       "    <tr style=\"text-align: right;\">\n",
       "      <th></th>\n",
       "      <th>body</th>\n",
       "      <th>subreddit</th>\n",
       "      <th>target</th>\n",
       "    </tr>\n",
       "  </thead>\n",
       "  <tbody>\n",
       "    <tr>\n",
       "      <th>0</th>\n",
       "      <td>Lol. \\n\\n\"AI iS GoInG tO PoStPoNe AlL oUr CaRd...</td>\n",
       "      <td>Crypto_com</td>\n",
       "      <td>1</td>\n",
       "    </tr>\n",
       "    <tr>\n",
       "      <th>1</th>\n",
       "      <td>Rose gold does not look Like how the website s...</td>\n",
       "      <td>Crypto_com</td>\n",
       "      <td>1</td>\n",
       "    </tr>\n",
       "    <tr>\n",
       "      <th>2</th>\n",
       "      <td>Is cad -&amp;gt; usdc not 1:1?</td>\n",
       "      <td>Crypto_com</td>\n",
       "      <td>1</td>\n",
       "    </tr>\n",
       "    <tr>\n",
       "      <th>3</th>\n",
       "      <td>Well said</td>\n",
       "      <td>Crypto_com</td>\n",
       "      <td>1</td>\n",
       "    </tr>\n",
       "    <tr>\n",
       "      <th>4</th>\n",
       "      <td>Yeah I had my card stolen same thing. Annoying...</td>\n",
       "      <td>Crypto_com</td>\n",
       "      <td>1</td>\n",
       "    </tr>\n",
       "  </tbody>\n",
       "</table>\n",
       "</div>"
      ],
      "text/plain": [
       "                                                body   subreddit  target\n",
       "0  Lol. \\n\\n\"AI iS GoInG tO PoStPoNe AlL oUr CaRd...  Crypto_com       1\n",
       "1  Rose gold does not look Like how the website s...  Crypto_com       1\n",
       "2                         Is cad -&gt; usdc not 1:1?  Crypto_com       1\n",
       "3                                          Well said  Crypto_com       1\n",
       "4  Yeah I had my card stolen same thing. Annoying...  Crypto_com       1"
      ]
     },
     "execution_count": 5,
     "metadata": {},
     "output_type": "execute_result"
    }
   ],
   "source": [
    "df.head()"
   ]
  },
  {
   "cell_type": "code",
   "execution_count": 6,
   "id": "e44e4cdb",
   "metadata": {},
   "outputs": [],
   "source": [
    "# Drop subreddit column\n",
    "df.drop('subreddit',axis=1,inplace=True)"
   ]
  },
  {
   "cell_type": "code",
   "execution_count": 7,
   "id": "c0d06ade",
   "metadata": {},
   "outputs": [
    {
     "data": {
      "text/html": [
       "<div>\n",
       "<style scoped>\n",
       "    .dataframe tbody tr th:only-of-type {\n",
       "        vertical-align: middle;\n",
       "    }\n",
       "\n",
       "    .dataframe tbody tr th {\n",
       "        vertical-align: top;\n",
       "    }\n",
       "\n",
       "    .dataframe thead th {\n",
       "        text-align: right;\n",
       "    }\n",
       "</style>\n",
       "<table border=\"1\" class=\"dataframe\">\n",
       "  <thead>\n",
       "    <tr style=\"text-align: right;\">\n",
       "      <th></th>\n",
       "      <th>body</th>\n",
       "      <th>target</th>\n",
       "    </tr>\n",
       "  </thead>\n",
       "  <tbody>\n",
       "    <tr>\n",
       "      <th>0</th>\n",
       "      <td>Lol. \\n\\n\"AI iS GoInG tO PoStPoNe AlL oUr CaRd...</td>\n",
       "      <td>1</td>\n",
       "    </tr>\n",
       "    <tr>\n",
       "      <th>1</th>\n",
       "      <td>Rose gold does not look Like how the website s...</td>\n",
       "      <td>1</td>\n",
       "    </tr>\n",
       "    <tr>\n",
       "      <th>2</th>\n",
       "      <td>Is cad -&amp;gt; usdc not 1:1?</td>\n",
       "      <td>1</td>\n",
       "    </tr>\n",
       "    <tr>\n",
       "      <th>3</th>\n",
       "      <td>Well said</td>\n",
       "      <td>1</td>\n",
       "    </tr>\n",
       "    <tr>\n",
       "      <th>4</th>\n",
       "      <td>Yeah I had my card stolen same thing. Annoying...</td>\n",
       "      <td>1</td>\n",
       "    </tr>\n",
       "  </tbody>\n",
       "</table>\n",
       "</div>"
      ],
      "text/plain": [
       "                                                body  target\n",
       "0  Lol. \\n\\n\"AI iS GoInG tO PoStPoNe AlL oUr CaRd...       1\n",
       "1  Rose gold does not look Like how the website s...       1\n",
       "2                         Is cad -&gt; usdc not 1:1?       1\n",
       "3                                          Well said       1\n",
       "4  Yeah I had my card stolen same thing. Annoying...       1"
      ]
     },
     "execution_count": 7,
     "metadata": {},
     "output_type": "execute_result"
    }
   ],
   "source": [
    "df.head()"
   ]
  },
  {
   "cell_type": "markdown",
   "id": "c0a6dcc3",
   "metadata": {},
   "source": [
    "## Explore duplicate text\n",
    "[back to top](#Contents:)"
   ]
  },
  {
   "cell_type": "code",
   "execution_count": 8,
   "id": "140ad5fc",
   "metadata": {},
   "outputs": [
    {
     "data": {
      "text/plain": [
       "1643"
      ]
     },
     "execution_count": 8,
     "metadata": {},
     "output_type": "execute_result"
    }
   ],
   "source": [
    "# Check for any duplicate comments\n",
    "df.duplicated().sum()"
   ]
  },
  {
   "cell_type": "code",
   "execution_count": 9,
   "id": "82d44d4e",
   "metadata": {},
   "outputs": [
    {
     "data": {
      "text/html": [
       "<div>\n",
       "<style scoped>\n",
       "    .dataframe tbody tr th:only-of-type {\n",
       "        vertical-align: middle;\n",
       "    }\n",
       "\n",
       "    .dataframe tbody tr th {\n",
       "        vertical-align: top;\n",
       "    }\n",
       "\n",
       "    .dataframe thead th {\n",
       "        text-align: right;\n",
       "    }\n",
       "</style>\n",
       "<table border=\"1\" class=\"dataframe\">\n",
       "  <thead>\n",
       "    <tr style=\"text-align: right;\">\n",
       "      <th></th>\n",
       "      <th>body</th>\n",
       "      <th>target</th>\n",
       "    </tr>\n",
       "  </thead>\n",
       "  <tbody>\n",
       "    <tr>\n",
       "      <th>17</th>\n",
       "      <td>[removed]</td>\n",
       "      <td>1</td>\n",
       "    </tr>\n",
       "    <tr>\n",
       "      <th>18</th>\n",
       "      <td>[removed]</td>\n",
       "      <td>1</td>\n",
       "    </tr>\n",
       "    <tr>\n",
       "      <th>34</th>\n",
       "      <td>[removed]</td>\n",
       "      <td>1</td>\n",
       "    </tr>\n",
       "    <tr>\n",
       "      <th>40</th>\n",
       "      <td>[removed]</td>\n",
       "      <td>1</td>\n",
       "    </tr>\n",
       "    <tr>\n",
       "      <th>42</th>\n",
       "      <td>[removed]</td>\n",
       "      <td>1</td>\n",
       "    </tr>\n",
       "    <tr>\n",
       "      <th>52</th>\n",
       "      <td>[removed]</td>\n",
       "      <td>1</td>\n",
       "    </tr>\n",
       "    <tr>\n",
       "      <th>63</th>\n",
       "      <td>[removed]</td>\n",
       "      <td>1</td>\n",
       "    </tr>\n",
       "    <tr>\n",
       "      <th>65</th>\n",
       "      <td>[removed]</td>\n",
       "      <td>1</td>\n",
       "    </tr>\n",
       "    <tr>\n",
       "      <th>70</th>\n",
       "      <td>[removed]</td>\n",
       "      <td>1</td>\n",
       "    </tr>\n",
       "    <tr>\n",
       "      <th>73</th>\n",
       "      <td>[removed]</td>\n",
       "      <td>1</td>\n",
       "    </tr>\n",
       "    <tr>\n",
       "      <th>76</th>\n",
       "      <td>[removed]</td>\n",
       "      <td>1</td>\n",
       "    </tr>\n",
       "    <tr>\n",
       "      <th>77</th>\n",
       "      <td>The issue is fixed in version 1.27.1 for iPhone!</td>\n",
       "      <td>1</td>\n",
       "    </tr>\n",
       "    <tr>\n",
       "      <th>78</th>\n",
       "      <td>[removed]</td>\n",
       "      <td>1</td>\n",
       "    </tr>\n",
       "    <tr>\n",
       "      <th>79</th>\n",
       "      <td>The issue is fixed in version 1.27.1 for iPhone!</td>\n",
       "      <td>1</td>\n",
       "    </tr>\n",
       "    <tr>\n",
       "      <th>80</th>\n",
       "      <td>The issue is fixed in version 1.27.1 for iPhone!</td>\n",
       "      <td>1</td>\n",
       "    </tr>\n",
       "    <tr>\n",
       "      <th>82</th>\n",
       "      <td>[removed]</td>\n",
       "      <td>1</td>\n",
       "    </tr>\n",
       "    <tr>\n",
       "      <th>86</th>\n",
       "      <td>[removed]</td>\n",
       "      <td>1</td>\n",
       "    </tr>\n",
       "    <tr>\n",
       "      <th>87</th>\n",
       "      <td>[removed]</td>\n",
       "      <td>1</td>\n",
       "    </tr>\n",
       "    <tr>\n",
       "      <th>112</th>\n",
       "      <td>[removed]</td>\n",
       "      <td>1</td>\n",
       "    </tr>\n",
       "    <tr>\n",
       "      <th>120</th>\n",
       "      <td>[removed]</td>\n",
       "      <td>1</td>\n",
       "    </tr>\n",
       "  </tbody>\n",
       "</table>\n",
       "</div>"
      ],
      "text/plain": [
       "                                                 body  target\n",
       "17                                          [removed]       1\n",
       "18                                          [removed]       1\n",
       "34                                          [removed]       1\n",
       "40                                          [removed]       1\n",
       "42                                          [removed]       1\n",
       "52                                          [removed]       1\n",
       "63                                          [removed]       1\n",
       "65                                          [removed]       1\n",
       "70                                          [removed]       1\n",
       "73                                          [removed]       1\n",
       "76                                          [removed]       1\n",
       "77   The issue is fixed in version 1.27.1 for iPhone!       1\n",
       "78                                          [removed]       1\n",
       "79   The issue is fixed in version 1.27.1 for iPhone!       1\n",
       "80   The issue is fixed in version 1.27.1 for iPhone!       1\n",
       "82                                          [removed]       1\n",
       "86                                          [removed]       1\n",
       "87                                          [removed]       1\n",
       "112                                         [removed]       1\n",
       "120                                         [removed]       1"
      ]
     },
     "execution_count": 9,
     "metadata": {},
     "output_type": "execute_result"
    }
   ],
   "source": [
    "df[df.duplicated()].head(20)"
   ]
  },
  {
   "cell_type": "code",
   "execution_count": 10,
   "id": "f41c702c",
   "metadata": {},
   "outputs": [
    {
     "data": {
      "text/html": [
       "<div>\n",
       "<style scoped>\n",
       "    .dataframe tbody tr th:only-of-type {\n",
       "        vertical-align: middle;\n",
       "    }\n",
       "\n",
       "    .dataframe tbody tr th {\n",
       "        vertical-align: top;\n",
       "    }\n",
       "\n",
       "    .dataframe thead th {\n",
       "        text-align: right;\n",
       "    }\n",
       "</style>\n",
       "<table border=\"1\" class=\"dataframe\">\n",
       "  <thead>\n",
       "    <tr style=\"text-align: right;\">\n",
       "      <th></th>\n",
       "      <th>body</th>\n",
       "      <th>target</th>\n",
       "    </tr>\n",
       "  </thead>\n",
       "  <tbody>\n",
       "    <tr>\n",
       "      <th>19675</th>\n",
       "      <td>Note: Messages to mods concerning this removal...</td>\n",
       "      <td>0</td>\n",
       "    </tr>\n",
       "    <tr>\n",
       "      <th>19676</th>\n",
       "      <td>Note: Messages to mods concerning this removal...</td>\n",
       "      <td>0</td>\n",
       "    </tr>\n",
       "    <tr>\n",
       "      <th>19738</th>\n",
       "      <td>Ok thanks</td>\n",
       "      <td>0</td>\n",
       "    </tr>\n",
       "    <tr>\n",
       "      <th>19762</th>\n",
       "      <td>Note: Messages to mods concerning this removal...</td>\n",
       "      <td>0</td>\n",
       "    </tr>\n",
       "    <tr>\n",
       "      <th>19765</th>\n",
       "      <td>Note: Messages to mods concerning this removal...</td>\n",
       "      <td>0</td>\n",
       "    </tr>\n",
       "    <tr>\n",
       "      <th>19766</th>\n",
       "      <td>Note: Messages to mods concerning this removal...</td>\n",
       "      <td>0</td>\n",
       "    </tr>\n",
       "    <tr>\n",
       "      <th>19767</th>\n",
       "      <td>*“Know the rules well, so you can break them e...</td>\n",
       "      <td>0</td>\n",
       "    </tr>\n",
       "    <tr>\n",
       "      <th>19768</th>\n",
       "      <td>Note: Messages to mods concerning this removal...</td>\n",
       "      <td>0</td>\n",
       "    </tr>\n",
       "    <tr>\n",
       "      <th>19769</th>\n",
       "      <td>Note: Messages to mods concerning this removal...</td>\n",
       "      <td>0</td>\n",
       "    </tr>\n",
       "    <tr>\n",
       "      <th>19770</th>\n",
       "      <td>Note: Messages to mods concerning this removal...</td>\n",
       "      <td>0</td>\n",
       "    </tr>\n",
       "    <tr>\n",
       "      <th>19771</th>\n",
       "      <td>Note: Messages to mods concerning this removal...</td>\n",
       "      <td>0</td>\n",
       "    </tr>\n",
       "    <tr>\n",
       "      <th>19772</th>\n",
       "      <td>*“Know the rules well, so you can break them e...</td>\n",
       "      <td>0</td>\n",
       "    </tr>\n",
       "    <tr>\n",
       "      <th>19773</th>\n",
       "      <td>Note: Messages to mods concerning this removal...</td>\n",
       "      <td>0</td>\n",
       "    </tr>\n",
       "    <tr>\n",
       "      <th>19774</th>\n",
       "      <td>Note: Messages to mods concerning this removal...</td>\n",
       "      <td>0</td>\n",
       "    </tr>\n",
       "    <tr>\n",
       "      <th>19775</th>\n",
       "      <td>*“Know the rules well, so you can break them e...</td>\n",
       "      <td>0</td>\n",
       "    </tr>\n",
       "    <tr>\n",
       "      <th>19777</th>\n",
       "      <td>Note: Messages to mods concerning this removal...</td>\n",
       "      <td>0</td>\n",
       "    </tr>\n",
       "    <tr>\n",
       "      <th>19795</th>\n",
       "      <td>Note: Messages to mods concerning this removal...</td>\n",
       "      <td>0</td>\n",
       "    </tr>\n",
       "    <tr>\n",
       "      <th>19826</th>\n",
       "      <td>[removed]</td>\n",
       "      <td>0</td>\n",
       "    </tr>\n",
       "    <tr>\n",
       "      <th>19846</th>\n",
       "      <td>Yes</td>\n",
       "      <td>0</td>\n",
       "    </tr>\n",
       "    <tr>\n",
       "      <th>19880</th>\n",
       "      <td>[removed]</td>\n",
       "      <td>0</td>\n",
       "    </tr>\n",
       "  </tbody>\n",
       "</table>\n",
       "</div>"
      ],
      "text/plain": [
       "                                                    body  target\n",
       "19675  Note: Messages to mods concerning this removal...       0\n",
       "19676  Note: Messages to mods concerning this removal...       0\n",
       "19738                                          Ok thanks       0\n",
       "19762  Note: Messages to mods concerning this removal...       0\n",
       "19765  Note: Messages to mods concerning this removal...       0\n",
       "19766  Note: Messages to mods concerning this removal...       0\n",
       "19767  *“Know the rules well, so you can break them e...       0\n",
       "19768  Note: Messages to mods concerning this removal...       0\n",
       "19769  Note: Messages to mods concerning this removal...       0\n",
       "19770  Note: Messages to mods concerning this removal...       0\n",
       "19771  Note: Messages to mods concerning this removal...       0\n",
       "19772  *“Know the rules well, so you can break them e...       0\n",
       "19773  Note: Messages to mods concerning this removal...       0\n",
       "19774  Note: Messages to mods concerning this removal...       0\n",
       "19775  *“Know the rules well, so you can break them e...       0\n",
       "19777  Note: Messages to mods concerning this removal...       0\n",
       "19795  Note: Messages to mods concerning this removal...       0\n",
       "19826                                          [removed]       0\n",
       "19846                                                Yes       0\n",
       "19880                                          [removed]       0"
      ]
     },
     "execution_count": 10,
     "metadata": {},
     "output_type": "execute_result"
    }
   ],
   "source": [
    "df[df.duplicated()].tail(20)"
   ]
  },
  {
   "cell_type": "code",
   "execution_count": 11,
   "id": "52c5d081",
   "metadata": {},
   "outputs": [
    {
     "data": {
      "text/plain": [
       "'[removed]'"
      ]
     },
     "execution_count": 11,
     "metadata": {},
     "output_type": "execute_result"
    }
   ],
   "source": [
    "crypto_dup = list(df[df.duplicated()]['body'])[0]\n",
    "crypto_dup"
   ]
  },
  {
   "cell_type": "code",
   "execution_count": 12,
   "id": "53a5f88a",
   "metadata": {},
   "outputs": [
    {
     "data": {
      "text/plain": [
       "'Note: Messages to mods concerning this removal will not be responded to unless you include the text \"I have fully read the removal comment\"\\n\\nNothing personal, but your post has been removed for violation of [Rule3](https://www.reddit.com/r/bodyweightfitness/wiki/rules#wiki_3._provoke_discussion.)\\n\\nYour question can probably be answered in the [FAQ](http://www.reddit.com/r/bodyweightfitness/wiki/faq), [WIKI](https://www.reddit.com/r/bodyweightfitness/wiki/index) or by using search.\\n\\nOtherwise, please keep all simple questions in the [Daily Discussion thread](https://www.reddit.com/r/bodyweightfitness/search/?q=BWF%20Daily%20Discussion%20and%20Beginner%2FRR%20Questions%20Thread%20for%20&amp;restrict_sr=1&amp;sort=new) instead of clogging the subreddit with dedicated threads.\\n\\n---\\n\\n*This message was automated. If you have any questions as to why your post was removed, either reply to this comment or [message the moderators](https://www.reddit.com/message/compose?to=/r/bodyweightfitness)* Remember: You must say \"I have fully read the removal comment\" to get a response.'"
      ]
     },
     "execution_count": 12,
     "metadata": {},
     "output_type": "execute_result"
    }
   ],
   "source": [
    "fitness_dup = list(df[df.duplicated()]['body'])[-4]\n",
    "fitness_dup"
   ]
  },
  {
   "cell_type": "code",
   "execution_count": 13,
   "id": "de49e36c",
   "metadata": {},
   "outputs": [
    {
     "data": {
      "text/plain": [
       "801"
      ]
     },
     "execution_count": 13,
     "metadata": {},
     "output_type": "execute_result"
    }
   ],
   "source": [
    "len(df[df['body'] == crypto_dup]) # length of duplicate post under crpyto_com"
   ]
  },
  {
   "cell_type": "code",
   "execution_count": 14,
   "id": "176c39cf",
   "metadata": {},
   "outputs": [
    {
     "data": {
      "text/plain": [
       "11"
      ]
     },
     "execution_count": 14,
     "metadata": {},
     "output_type": "execute_result"
    }
   ],
   "source": [
    "len(df[df['body'] == fitness_dup]) # len of duplicate post under bodyweightfitness"
   ]
  },
  {
   "cell_type": "code",
   "execution_count": 15,
   "id": "edc64212",
   "metadata": {},
   "outputs": [
    {
     "data": {
      "text/html": [
       "<div>\n",
       "<style scoped>\n",
       "    .dataframe tbody tr th:only-of-type {\n",
       "        vertical-align: middle;\n",
       "    }\n",
       "\n",
       "    .dataframe tbody tr th {\n",
       "        vertical-align: top;\n",
       "    }\n",
       "\n",
       "    .dataframe thead th {\n",
       "        text-align: right;\n",
       "    }\n",
       "</style>\n",
       "<table border=\"1\" class=\"dataframe\">\n",
       "  <thead>\n",
       "    <tr style=\"text-align: right;\">\n",
       "      <th></th>\n",
       "      <th>body</th>\n",
       "      <th>target</th>\n",
       "    </tr>\n",
       "  </thead>\n",
       "  <tbody>\n",
       "    <tr>\n",
       "      <th>77</th>\n",
       "      <td>The issue is fixed in version 1.27.1 for iPhone!</td>\n",
       "      <td>1</td>\n",
       "    </tr>\n",
       "    <tr>\n",
       "      <th>79</th>\n",
       "      <td>The issue is fixed in version 1.27.1 for iPhone!</td>\n",
       "      <td>1</td>\n",
       "    </tr>\n",
       "    <tr>\n",
       "      <th>80</th>\n",
       "      <td>The issue is fixed in version 1.27.1 for iPhone!</td>\n",
       "      <td>1</td>\n",
       "    </tr>\n",
       "    <tr>\n",
       "      <th>731</th>\n",
       "      <td>Nice!</td>\n",
       "      <td>1</td>\n",
       "    </tr>\n",
       "    <tr>\n",
       "      <th>820</th>\n",
       "      <td>Vettel</td>\n",
       "      <td>1</td>\n",
       "    </tr>\n",
       "    <tr>\n",
       "      <th>828</th>\n",
       "      <td>Vettel</td>\n",
       "      <td>1</td>\n",
       "    </tr>\n",
       "    <tr>\n",
       "      <th>831</th>\n",
       "      <td>I also found this quote on Wikipedia but doesn...</td>\n",
       "      <td>1</td>\n",
       "    </tr>\n",
       "    <tr>\n",
       "      <th>846</th>\n",
       "      <td>Fernando Alonso</td>\n",
       "      <td>1</td>\n",
       "    </tr>\n",
       "    <tr>\n",
       "      <th>848</th>\n",
       "      <td>Vettel</td>\n",
       "      <td>1</td>\n",
       "    </tr>\n",
       "    <tr>\n",
       "      <th>863</th>\n",
       "      <td>Verstappen</td>\n",
       "      <td>1</td>\n",
       "    </tr>\n",
       "    <tr>\n",
       "      <th>880</th>\n",
       "      <td>Fernando Alonso</td>\n",
       "      <td>1</td>\n",
       "    </tr>\n",
       "    <tr>\n",
       "      <th>881</th>\n",
       "      <td>Fernando Alonso</td>\n",
       "      <td>1</td>\n",
       "    </tr>\n",
       "    <tr>\n",
       "      <th>893</th>\n",
       "      <td>[deleted]</td>\n",
       "      <td>1</td>\n",
       "    </tr>\n",
       "    <tr>\n",
       "      <th>898</th>\n",
       "      <td>[deleted]</td>\n",
       "      <td>1</td>\n",
       "    </tr>\n",
       "    <tr>\n",
       "      <th>899</th>\n",
       "      <td>Alonso</td>\n",
       "      <td>1</td>\n",
       "    </tr>\n",
       "    <tr>\n",
       "      <th>913</th>\n",
       "      <td>Would you kindly send us a follow-up message v...</td>\n",
       "      <td>1</td>\n",
       "    </tr>\n",
       "    <tr>\n",
       "      <th>928</th>\n",
       "      <td>[deleted]</td>\n",
       "      <td>1</td>\n",
       "    </tr>\n",
       "    <tr>\n",
       "      <th>970</th>\n",
       "      <td>Would you kindly send us a follow-up message v...</td>\n",
       "      <td>1</td>\n",
       "    </tr>\n",
       "    <tr>\n",
       "      <th>976</th>\n",
       "      <td>Would you kindly send us a follow-up message v...</td>\n",
       "      <td>1</td>\n",
       "    </tr>\n",
       "    <tr>\n",
       "      <th>986</th>\n",
       "      <td>Would you kindly send us a follow-up message v...</td>\n",
       "      <td>1</td>\n",
       "    </tr>\n",
       "  </tbody>\n",
       "</table>\n",
       "</div>"
      ],
      "text/plain": [
       "                                                  body  target\n",
       "77    The issue is fixed in version 1.27.1 for iPhone!       1\n",
       "79    The issue is fixed in version 1.27.1 for iPhone!       1\n",
       "80    The issue is fixed in version 1.27.1 for iPhone!       1\n",
       "731                                              Nice!       1\n",
       "820                                             Vettel       1\n",
       "828                                             Vettel       1\n",
       "831  I also found this quote on Wikipedia but doesn...       1\n",
       "846                                    Fernando Alonso       1\n",
       "848                                             Vettel       1\n",
       "863                                         Verstappen       1\n",
       "880                                    Fernando Alonso       1\n",
       "881                                    Fernando Alonso       1\n",
       "893                                          [deleted]       1\n",
       "898                                          [deleted]       1\n",
       "899                                             Alonso       1\n",
       "913  Would you kindly send us a follow-up message v...       1\n",
       "928                                          [deleted]       1\n",
       "970  Would you kindly send us a follow-up message v...       1\n",
       "976  Would you kindly send us a follow-up message v...       1\n",
       "986  Would you kindly send us a follow-up message v...       1"
      ]
     },
     "execution_count": 15,
     "metadata": {},
     "output_type": "execute_result"
    }
   ],
   "source": [
    "# Explore any other duplicate values\n",
    "df[df.duplicated() & (df['body']!= crypto_dup) & (df['body'] != fitness_dup)].head(20)"
   ]
  },
  {
   "cell_type": "code",
   "execution_count": 16,
   "id": "91074fbf",
   "metadata": {},
   "outputs": [
    {
     "data": {
      "text/html": [
       "<div>\n",
       "<style scoped>\n",
       "    .dataframe tbody tr th:only-of-type {\n",
       "        vertical-align: middle;\n",
       "    }\n",
       "\n",
       "    .dataframe tbody tr th {\n",
       "        vertical-align: top;\n",
       "    }\n",
       "\n",
       "    .dataframe thead th {\n",
       "        text-align: right;\n",
       "    }\n",
       "</style>\n",
       "<table border=\"1\" class=\"dataframe\">\n",
       "  <thead>\n",
       "    <tr style=\"text-align: right;\">\n",
       "      <th></th>\n",
       "      <th>body</th>\n",
       "      <th>target</th>\n",
       "    </tr>\n",
       "  </thead>\n",
       "  <tbody>\n",
       "    <tr>\n",
       "      <th>19643</th>\n",
       "      <td>Thank you!</td>\n",
       "      <td>0</td>\n",
       "    </tr>\n",
       "    <tr>\n",
       "      <th>19653</th>\n",
       "      <td>Thank you</td>\n",
       "      <td>0</td>\n",
       "    </tr>\n",
       "    <tr>\n",
       "      <th>19667</th>\n",
       "      <td>Note: Messages to mods concerning this removal...</td>\n",
       "      <td>0</td>\n",
       "    </tr>\n",
       "    <tr>\n",
       "      <th>19669</th>\n",
       "      <td>*“Know the rules well, so you can break them e...</td>\n",
       "      <td>0</td>\n",
       "    </tr>\n",
       "    <tr>\n",
       "      <th>19670</th>\n",
       "      <td>Note: Messages to mods concerning this removal...</td>\n",
       "      <td>0</td>\n",
       "    </tr>\n",
       "    <tr>\n",
       "      <th>19672</th>\n",
       "      <td>*“Know the rules well, so you can break them e...</td>\n",
       "      <td>0</td>\n",
       "    </tr>\n",
       "    <tr>\n",
       "      <th>19674</th>\n",
       "      <td>Note: Messages to mods concerning this removal...</td>\n",
       "      <td>0</td>\n",
       "    </tr>\n",
       "    <tr>\n",
       "      <th>19675</th>\n",
       "      <td>Note: Messages to mods concerning this removal...</td>\n",
       "      <td>0</td>\n",
       "    </tr>\n",
       "    <tr>\n",
       "      <th>19676</th>\n",
       "      <td>Note: Messages to mods concerning this removal...</td>\n",
       "      <td>0</td>\n",
       "    </tr>\n",
       "    <tr>\n",
       "      <th>19738</th>\n",
       "      <td>Ok thanks</td>\n",
       "      <td>0</td>\n",
       "    </tr>\n",
       "    <tr>\n",
       "      <th>19765</th>\n",
       "      <td>Note: Messages to mods concerning this removal...</td>\n",
       "      <td>0</td>\n",
       "    </tr>\n",
       "    <tr>\n",
       "      <th>19766</th>\n",
       "      <td>Note: Messages to mods concerning this removal...</td>\n",
       "      <td>0</td>\n",
       "    </tr>\n",
       "    <tr>\n",
       "      <th>19767</th>\n",
       "      <td>*“Know the rules well, so you can break them e...</td>\n",
       "      <td>0</td>\n",
       "    </tr>\n",
       "    <tr>\n",
       "      <th>19770</th>\n",
       "      <td>Note: Messages to mods concerning this removal...</td>\n",
       "      <td>0</td>\n",
       "    </tr>\n",
       "    <tr>\n",
       "      <th>19771</th>\n",
       "      <td>Note: Messages to mods concerning this removal...</td>\n",
       "      <td>0</td>\n",
       "    </tr>\n",
       "    <tr>\n",
       "      <th>19772</th>\n",
       "      <td>*“Know the rules well, so you can break them e...</td>\n",
       "      <td>0</td>\n",
       "    </tr>\n",
       "    <tr>\n",
       "      <th>19773</th>\n",
       "      <td>Note: Messages to mods concerning this removal...</td>\n",
       "      <td>0</td>\n",
       "    </tr>\n",
       "    <tr>\n",
       "      <th>19775</th>\n",
       "      <td>*“Know the rules well, so you can break them e...</td>\n",
       "      <td>0</td>\n",
       "    </tr>\n",
       "    <tr>\n",
       "      <th>19777</th>\n",
       "      <td>Note: Messages to mods concerning this removal...</td>\n",
       "      <td>0</td>\n",
       "    </tr>\n",
       "    <tr>\n",
       "      <th>19846</th>\n",
       "      <td>Yes</td>\n",
       "      <td>0</td>\n",
       "    </tr>\n",
       "  </tbody>\n",
       "</table>\n",
       "</div>"
      ],
      "text/plain": [
       "                                                    body  target\n",
       "19643                                         Thank you!       0\n",
       "19653                                          Thank you       0\n",
       "19667  Note: Messages to mods concerning this removal...       0\n",
       "19669  *“Know the rules well, so you can break them e...       0\n",
       "19670  Note: Messages to mods concerning this removal...       0\n",
       "19672  *“Know the rules well, so you can break them e...       0\n",
       "19674  Note: Messages to mods concerning this removal...       0\n",
       "19675  Note: Messages to mods concerning this removal...       0\n",
       "19676  Note: Messages to mods concerning this removal...       0\n",
       "19738                                          Ok thanks       0\n",
       "19765  Note: Messages to mods concerning this removal...       0\n",
       "19766  Note: Messages to mods concerning this removal...       0\n",
       "19767  *“Know the rules well, so you can break them e...       0\n",
       "19770  Note: Messages to mods concerning this removal...       0\n",
       "19771  Note: Messages to mods concerning this removal...       0\n",
       "19772  *“Know the rules well, so you can break them e...       0\n",
       "19773  Note: Messages to mods concerning this removal...       0\n",
       "19775  *“Know the rules well, so you can break them e...       0\n",
       "19777  Note: Messages to mods concerning this removal...       0\n",
       "19846                                                Yes       0"
      ]
     },
     "execution_count": 16,
     "metadata": {},
     "output_type": "execute_result"
    }
   ],
   "source": [
    "df[df.duplicated() & (df['body']!= crypto_dup) & (df['body'] != fitness_dup)].tail(20)"
   ]
  },
  {
   "cell_type": "code",
   "execution_count": 17,
   "id": "43d54473",
   "metadata": {},
   "outputs": [
    {
     "data": {
      "text/plain": [
       "(19898, 2)"
      ]
     },
     "execution_count": 17,
     "metadata": {},
     "output_type": "execute_result"
    }
   ],
   "source": [
    "df.shape"
   ]
  },
  {
   "cell_type": "code",
   "execution_count": 18,
   "id": "f441152f",
   "metadata": {},
   "outputs": [
    {
     "data": {
      "text/plain": [
       "0.08257111267464066"
      ]
     },
     "execution_count": 18,
     "metadata": {},
     "output_type": "execute_result"
    }
   ],
   "source": [
    "# As there is like 8% of duplicate value we will drop them all.\n",
    "1643/19898 "
   ]
  },
  {
   "cell_type": "markdown",
   "id": "33165a04",
   "metadata": {},
   "source": [
    "## Drop duplicate values \n",
    "[back to top](#Contents:)"
   ]
  },
  {
   "cell_type": "code",
   "execution_count": 19,
   "id": "f019c2d7",
   "metadata": {},
   "outputs": [
    {
     "data": {
      "text/html": [
       "<div>\n",
       "<style scoped>\n",
       "    .dataframe tbody tr th:only-of-type {\n",
       "        vertical-align: middle;\n",
       "    }\n",
       "\n",
       "    .dataframe tbody tr th {\n",
       "        vertical-align: top;\n",
       "    }\n",
       "\n",
       "    .dataframe thead th {\n",
       "        text-align: right;\n",
       "    }\n",
       "</style>\n",
       "<table border=\"1\" class=\"dataframe\">\n",
       "  <thead>\n",
       "    <tr style=\"text-align: right;\">\n",
       "      <th></th>\n",
       "      <th>body</th>\n",
       "      <th>target</th>\n",
       "    </tr>\n",
       "  </thead>\n",
       "  <tbody>\n",
       "    <tr>\n",
       "      <th>0</th>\n",
       "      <td>Lol. \\n\\n\"AI iS GoInG tO PoStPoNe AlL oUr CaRd...</td>\n",
       "      <td>1</td>\n",
       "    </tr>\n",
       "    <tr>\n",
       "      <th>1</th>\n",
       "      <td>Rose gold does not look Like how the website s...</td>\n",
       "      <td>1</td>\n",
       "    </tr>\n",
       "    <tr>\n",
       "      <th>2</th>\n",
       "      <td>Is cad -&amp;gt; usdc not 1:1?</td>\n",
       "      <td>1</td>\n",
       "    </tr>\n",
       "    <tr>\n",
       "      <th>3</th>\n",
       "      <td>Well said</td>\n",
       "      <td>1</td>\n",
       "    </tr>\n",
       "    <tr>\n",
       "      <th>4</th>\n",
       "      <td>Yeah I had my card stolen same thing. Annoying...</td>\n",
       "      <td>1</td>\n",
       "    </tr>\n",
       "  </tbody>\n",
       "</table>\n",
       "</div>"
      ],
      "text/plain": [
       "                                                body  target\n",
       "0  Lol. \\n\\n\"AI iS GoInG tO PoStPoNe AlL oUr CaRd...       1\n",
       "1  Rose gold does not look Like how the website s...       1\n",
       "2                         Is cad -&gt; usdc not 1:1?       1\n",
       "3                                          Well said       1\n",
       "4  Yeah I had my card stolen same thing. Annoying...       1"
      ]
     },
     "execution_count": 19,
     "metadata": {},
     "output_type": "execute_result"
    }
   ],
   "source": [
    "df.head()"
   ]
  },
  {
   "cell_type": "code",
   "execution_count": 20,
   "id": "cc9e5eb5",
   "metadata": {},
   "outputs": [],
   "source": [
    "df.drop_duplicates(inplace=True,ignore_index=True)"
   ]
  },
  {
   "cell_type": "code",
   "execution_count": 23,
   "id": "146cf956",
   "metadata": {},
   "outputs": [
    {
     "data": {
      "text/plain": [
       "(18255, 2)"
      ]
     },
     "execution_count": 23,
     "metadata": {},
     "output_type": "execute_result"
    }
   ],
   "source": [
    "df.shape"
   ]
  },
  {
   "cell_type": "code",
   "execution_count": 21,
   "id": "401bdc9a",
   "metadata": {},
   "outputs": [
    {
     "data": {
      "text/html": [
       "<div>\n",
       "<style scoped>\n",
       "    .dataframe tbody tr th:only-of-type {\n",
       "        vertical-align: middle;\n",
       "    }\n",
       "\n",
       "    .dataframe tbody tr th {\n",
       "        vertical-align: top;\n",
       "    }\n",
       "\n",
       "    .dataframe thead th {\n",
       "        text-align: right;\n",
       "    }\n",
       "</style>\n",
       "<table border=\"1\" class=\"dataframe\">\n",
       "  <thead>\n",
       "    <tr style=\"text-align: right;\">\n",
       "      <th></th>\n",
       "      <th>body</th>\n",
       "      <th>target</th>\n",
       "    </tr>\n",
       "  </thead>\n",
       "  <tbody>\n",
       "    <tr>\n",
       "      <th>0</th>\n",
       "      <td>Lol. \\n\\n\"AI iS GoInG tO PoStPoNe AlL oUr CaRd...</td>\n",
       "      <td>1</td>\n",
       "    </tr>\n",
       "    <tr>\n",
       "      <th>1</th>\n",
       "      <td>Rose gold does not look Like how the website s...</td>\n",
       "      <td>1</td>\n",
       "    </tr>\n",
       "    <tr>\n",
       "      <th>2</th>\n",
       "      <td>Is cad -&amp;gt; usdc not 1:1?</td>\n",
       "      <td>1</td>\n",
       "    </tr>\n",
       "    <tr>\n",
       "      <th>3</th>\n",
       "      <td>Well said</td>\n",
       "      <td>1</td>\n",
       "    </tr>\n",
       "    <tr>\n",
       "      <th>4</th>\n",
       "      <td>Yeah I had my card stolen same thing. Annoying...</td>\n",
       "      <td>1</td>\n",
       "    </tr>\n",
       "  </tbody>\n",
       "</table>\n",
       "</div>"
      ],
      "text/plain": [
       "                                                body  target\n",
       "0  Lol. \\n\\n\"AI iS GoInG tO PoStPoNe AlL oUr CaRd...       1\n",
       "1  Rose gold does not look Like how the website s...       1\n",
       "2                         Is cad -&gt; usdc not 1:1?       1\n",
       "3                                          Well said       1\n",
       "4  Yeah I had my card stolen same thing. Annoying...       1"
      ]
     },
     "execution_count": 21,
     "metadata": {},
     "output_type": "execute_result"
    }
   ],
   "source": [
    "df.head()"
   ]
  },
  {
   "cell_type": "code",
   "execution_count": 22,
   "id": "a5375b87",
   "metadata": {},
   "outputs": [
    {
     "data": {
      "text/html": [
       "<div>\n",
       "<style scoped>\n",
       "    .dataframe tbody tr th:only-of-type {\n",
       "        vertical-align: middle;\n",
       "    }\n",
       "\n",
       "    .dataframe tbody tr th {\n",
       "        vertical-align: top;\n",
       "    }\n",
       "\n",
       "    .dataframe thead th {\n",
       "        text-align: right;\n",
       "    }\n",
       "</style>\n",
       "<table border=\"1\" class=\"dataframe\">\n",
       "  <thead>\n",
       "    <tr style=\"text-align: right;\">\n",
       "      <th></th>\n",
       "      <th>body</th>\n",
       "      <th>target</th>\n",
       "    </tr>\n",
       "  </thead>\n",
       "  <tbody>\n",
       "    <tr>\n",
       "      <th>18250</th>\n",
       "      <td>Silverback gorilla style</td>\n",
       "      <td>0</td>\n",
       "    </tr>\n",
       "    <tr>\n",
       "      <th>18251</th>\n",
       "      <td>Interesting. I will try that.</td>\n",
       "      <td>0</td>\n",
       "    </tr>\n",
       "    <tr>\n",
       "      <th>18252</th>\n",
       "      <td>I carb up usually with a protein bar or Rice K...</td>\n",
       "      <td>0</td>\n",
       "    </tr>\n",
       "    <tr>\n",
       "      <th>18253</th>\n",
       "      <td>I usually have a cup of orange juice then walk...</td>\n",
       "      <td>0</td>\n",
       "    </tr>\n",
       "    <tr>\n",
       "      <th>18254</th>\n",
       "      <td>it entirely depends on you bro, how badly do y...</td>\n",
       "      <td>0</td>\n",
       "    </tr>\n",
       "  </tbody>\n",
       "</table>\n",
       "</div>"
      ],
      "text/plain": [
       "                                                    body  target\n",
       "18250                           Silverback gorilla style       0\n",
       "18251                      Interesting. I will try that.       0\n",
       "18252  I carb up usually with a protein bar or Rice K...       0\n",
       "18253  I usually have a cup of orange juice then walk...       0\n",
       "18254  it entirely depends on you bro, how badly do y...       0"
      ]
     },
     "execution_count": 22,
     "metadata": {},
     "output_type": "execute_result"
    }
   ],
   "source": [
    "df.tail()"
   ]
  },
  {
   "cell_type": "markdown",
   "id": "18aad6b5",
   "metadata": {},
   "source": [
    "## Explore and clean text\n",
    "[back to top](#Contents:)"
   ]
  },
  {
   "cell_type": "code",
   "execution_count": 1,
   "id": "92f5c727",
   "metadata": {},
   "outputs": [],
   "source": [
    "# https://towardsdatascience.com/the-real-world-as-seen-on-twitter-sentiment-analysis-part-one-5ac2d06b63fb\n",
    "# https://stackoverflow.com/questions/4328500/how-can-i-strip-all-punctuation-from-a-string-in-javascript-using-regex\n",
    "# https://www.rexegg.com/regex-quickstart.html\n",
    "# https://www.w3schools.com/python/python_regex.asp"
   ]
  },
  {
   "cell_type": "code",
   "execution_count": 26,
   "id": "e7d45dc9",
   "metadata": {},
   "outputs": [],
   "source": [
    "def clean_text(text):\n",
    "    text = text.lower() # make all text lower case\n",
    "    \n",
    "    text = re.sub(r'\\&\\w*;', '',text) # Remove html special entities (e.g &amp;)\n",
    "    \n",
    "    text = re.sub(r'https?:\\/\\/.*\\/\\w*', '',text) # Remove hyperlinks\n",
    "    \n",
    "    # Remove punctuation and split 's,'t,'ve with a space for filter\n",
    "    text = re.sub(r'[' + string.punctuation.replace('@','') + '] +', ' ', text)\n",
    "    \n",
    "    text = re.sub(r'\\b\\w{1,2}\\b', '', text) #Remove words with 2 or fewer letters\n",
    "    \n",
    "    text = re.sub(r'\\s\\s+', ' ', text) # Remove whitespace and new line characters.\n",
    "    \n",
    "    # Remove characters beyond Basic Multinomial Plane (BMP) of unicode.\n",
    "    text = ''.join(c for c in text if c<= '\\uFFFF')\n",
    "    \n",
    "    return text"
   ]
  },
  {
   "cell_type": "code",
   "execution_count": 27,
   "id": "89b095a6",
   "metadata": {},
   "outputs": [],
   "source": [
    "df['body'] = df['body'].apply(clean_text)"
   ]
  },
  {
   "cell_type": "code",
   "execution_count": 28,
   "id": "bbc916b0",
   "metadata": {},
   "outputs": [
    {
     "data": {
      "text/plain": [
       "(18255, 2)"
      ]
     },
     "execution_count": 28,
     "metadata": {},
     "output_type": "execute_result"
    }
   ],
   "source": [
    "df.shape"
   ]
  },
  {
   "cell_type": "code",
   "execution_count": 30,
   "id": "3a21a59f",
   "metadata": {},
   "outputs": [
    {
     "data": {
      "text/html": [
       "<div>\n",
       "<style scoped>\n",
       "    .dataframe tbody tr th:only-of-type {\n",
       "        vertical-align: middle;\n",
       "    }\n",
       "\n",
       "    .dataframe tbody tr th {\n",
       "        vertical-align: top;\n",
       "    }\n",
       "\n",
       "    .dataframe thead th {\n",
       "        text-align: right;\n",
       "    }\n",
       "</style>\n",
       "<table border=\"1\" class=\"dataframe\">\n",
       "  <thead>\n",
       "    <tr style=\"text-align: right;\">\n",
       "      <th></th>\n",
       "      <th>body</th>\n",
       "      <th>target</th>\n",
       "    </tr>\n",
       "  </thead>\n",
       "  <tbody>\n",
       "    <tr>\n",
       "      <th>0</th>\n",
       "      <td>lol \" going postpone all our cards need stand ...</td>\n",
       "      <td>1</td>\n",
       "    </tr>\n",
       "    <tr>\n",
       "      <th>1</th>\n",
       "      <td>rose gold does not look like how the website s...</td>\n",
       "      <td>1</td>\n",
       "    </tr>\n",
       "    <tr>\n",
       "      <th>2</th>\n",
       "      <td>cad usdc not :?</td>\n",
       "      <td>1</td>\n",
       "    </tr>\n",
       "    <tr>\n",
       "      <th>3</th>\n",
       "      <td>well said</td>\n",
       "      <td>1</td>\n",
       "    </tr>\n",
       "    <tr>\n",
       "      <th>4</th>\n",
       "      <td>yeah had card stolen same thing annoying but w...</td>\n",
       "      <td>1</td>\n",
       "    </tr>\n",
       "    <tr>\n",
       "      <th>5</th>\n",
       "      <td>you find better?</td>\n",
       "      <td>1</td>\n",
       "    </tr>\n",
       "    <tr>\n",
       "      <th>6</th>\n",
       "      <td>exactly point you are just not high priority l...</td>\n",
       "      <td>1</td>\n",
       "    </tr>\n",
       "    <tr>\n",
       "      <th>7</th>\n",
       "      <td>the mystery boxes are just ploy get people bu...</td>\n",
       "      <td>1</td>\n",
       "    </tr>\n",
       "    <tr>\n",
       "      <th>8</th>\n",
       "      <td>seems plenty banks are with strange that revol...</td>\n",
       "      <td>1</td>\n",
       "    </tr>\n",
       "    <tr>\n",
       "      <th>9</th>\n",
       "      <td>yourself</td>\n",
       "      <td>1</td>\n",
       "    </tr>\n",
       "  </tbody>\n",
       "</table>\n",
       "</div>"
      ],
      "text/plain": [
       "                                                body  target\n",
       "0  lol \" going postpone all our cards need stand ...       1\n",
       "1  rose gold does not look like how the website s...       1\n",
       "2                                    cad usdc not :?       1\n",
       "3                                          well said       1\n",
       "4  yeah had card stolen same thing annoying but w...       1\n",
       "5                                   you find better?       1\n",
       "6  exactly point you are just not high priority l...       1\n",
       "7   the mystery boxes are just ploy get people bu...       1\n",
       "8  seems plenty banks are with strange that revol...       1\n",
       "9                                          yourself        1"
      ]
     },
     "execution_count": 30,
     "metadata": {},
     "output_type": "execute_result"
    }
   ],
   "source": [
    "df.head(10)"
   ]
  },
  {
   "cell_type": "code",
   "execution_count": 31,
   "id": "a98bfbe7",
   "metadata": {},
   "outputs": [],
   "source": [
    "# drop rows where body is ''\n",
    "df = df[df['body'] != '']\n",
    "df = df.reset_index(drop=True)"
   ]
  },
  {
   "cell_type": "code",
   "execution_count": 34,
   "id": "cbdbe40d",
   "metadata": {},
   "outputs": [
    {
     "data": {
      "text/html": [
       "<div>\n",
       "<style scoped>\n",
       "    .dataframe tbody tr th:only-of-type {\n",
       "        vertical-align: middle;\n",
       "    }\n",
       "\n",
       "    .dataframe tbody tr th {\n",
       "        vertical-align: top;\n",
       "    }\n",
       "\n",
       "    .dataframe thead th {\n",
       "        text-align: right;\n",
       "    }\n",
       "</style>\n",
       "<table border=\"1\" class=\"dataframe\">\n",
       "  <thead>\n",
       "    <tr style=\"text-align: right;\">\n",
       "      <th></th>\n",
       "      <th>body</th>\n",
       "      <th>target</th>\n",
       "    </tr>\n",
       "  </thead>\n",
       "  <tbody>\n",
       "    <tr>\n",
       "      <th>18190</th>\n",
       "      <td>nah</td>\n",
       "      <td>0</td>\n",
       "    </tr>\n",
       "    <tr>\n",
       "      <th>18191</th>\n",
       "      <td>also try the gym right after work ’ afternoon...</td>\n",
       "      <td>0</td>\n",
       "    </tr>\n",
       "    <tr>\n",
       "      <th>18192</th>\n",
       "      <td>haha yeah kinda wild some these dudes out ther...</td>\n",
       "      <td>0</td>\n",
       "    </tr>\n",
       "    <tr>\n",
       "      <th>18193</th>\n",
       "      <td>yes that' right but for beginner like who can'...</td>\n",
       "      <td>0</td>\n",
       "    </tr>\n",
       "    <tr>\n",
       "      <th>18194</th>\n",
       "      <td>just take long walks/jogs and eat lose weight ...</td>\n",
       "      <td>0</td>\n",
       "    </tr>\n",
       "    <tr>\n",
       "      <th>18195</th>\n",
       "      <td>silverback gorilla style</td>\n",
       "      <td>0</td>\n",
       "    </tr>\n",
       "    <tr>\n",
       "      <th>18196</th>\n",
       "      <td>interesting will try that.</td>\n",
       "      <td>0</td>\n",
       "    </tr>\n",
       "    <tr>\n",
       "      <th>18197</th>\n",
       "      <td>carb usually with protein bar rice krispies t...</td>\n",
       "      <td>0</td>\n",
       "    </tr>\n",
       "    <tr>\n",
       "      <th>18198</th>\n",
       "      <td>usually have cup orange juice then walk the c...</td>\n",
       "      <td>0</td>\n",
       "    </tr>\n",
       "    <tr>\n",
       "      <th>18199</th>\n",
       "      <td>entirely depends you bro how badly you want t...</td>\n",
       "      <td>0</td>\n",
       "    </tr>\n",
       "  </tbody>\n",
       "</table>\n",
       "</div>"
      ],
      "text/plain": [
       "                                                    body  target\n",
       "18190                                                nah       0\n",
       "18191   also try the gym right after work ’ afternoon...       0\n",
       "18192  haha yeah kinda wild some these dudes out ther...       0\n",
       "18193  yes that' right but for beginner like who can'...       0\n",
       "18194  just take long walks/jogs and eat lose weight ...       0\n",
       "18195                           silverback gorilla style       0\n",
       "18196                         interesting will try that.       0\n",
       "18197   carb usually with protein bar rice krispies t...       0\n",
       "18198   usually have cup orange juice then walk the c...       0\n",
       "18199   entirely depends you bro how badly you want t...       0"
      ]
     },
     "execution_count": 34,
     "metadata": {},
     "output_type": "execute_result"
    }
   ],
   "source": [
    "df.tail(10)"
   ]
  },
  {
   "cell_type": "code",
   "execution_count": 35,
   "id": "a979ba2f",
   "metadata": {},
   "outputs": [
    {
     "data": {
      "text/html": [
       "<div>\n",
       "<style scoped>\n",
       "    .dataframe tbody tr th:only-of-type {\n",
       "        vertical-align: middle;\n",
       "    }\n",
       "\n",
       "    .dataframe tbody tr th {\n",
       "        vertical-align: top;\n",
       "    }\n",
       "\n",
       "    .dataframe thead th {\n",
       "        text-align: right;\n",
       "    }\n",
       "</style>\n",
       "<table border=\"1\" class=\"dataframe\">\n",
       "  <thead>\n",
       "    <tr style=\"text-align: right;\">\n",
       "      <th></th>\n",
       "      <th>body</th>\n",
       "      <th>target</th>\n",
       "    </tr>\n",
       "  </thead>\n",
       "  <tbody>\n",
       "    <tr>\n",
       "      <th>0</th>\n",
       "      <td>lol \" going postpone all our cards need stand ...</td>\n",
       "      <td>1</td>\n",
       "    </tr>\n",
       "    <tr>\n",
       "      <th>1</th>\n",
       "      <td>rose gold does not look like how the website s...</td>\n",
       "      <td>1</td>\n",
       "    </tr>\n",
       "    <tr>\n",
       "      <th>2</th>\n",
       "      <td>cad usdc not :?</td>\n",
       "      <td>1</td>\n",
       "    </tr>\n",
       "    <tr>\n",
       "      <th>3</th>\n",
       "      <td>well said</td>\n",
       "      <td>1</td>\n",
       "    </tr>\n",
       "    <tr>\n",
       "      <th>4</th>\n",
       "      <td>yeah had card stolen same thing annoying but w...</td>\n",
       "      <td>1</td>\n",
       "    </tr>\n",
       "    <tr>\n",
       "      <th>5</th>\n",
       "      <td>you find better?</td>\n",
       "      <td>1</td>\n",
       "    </tr>\n",
       "    <tr>\n",
       "      <th>6</th>\n",
       "      <td>exactly point you are just not high priority l...</td>\n",
       "      <td>1</td>\n",
       "    </tr>\n",
       "    <tr>\n",
       "      <th>7</th>\n",
       "      <td>the mystery boxes are just ploy get people bu...</td>\n",
       "      <td>1</td>\n",
       "    </tr>\n",
       "    <tr>\n",
       "      <th>8</th>\n",
       "      <td>seems plenty banks are with strange that revol...</td>\n",
       "      <td>1</td>\n",
       "    </tr>\n",
       "    <tr>\n",
       "      <th>9</th>\n",
       "      <td>yourself</td>\n",
       "      <td>1</td>\n",
       "    </tr>\n",
       "  </tbody>\n",
       "</table>\n",
       "</div>"
      ],
      "text/plain": [
       "                                                body  target\n",
       "0  lol \" going postpone all our cards need stand ...       1\n",
       "1  rose gold does not look like how the website s...       1\n",
       "2                                    cad usdc not :?       1\n",
       "3                                          well said       1\n",
       "4  yeah had card stolen same thing annoying but w...       1\n",
       "5                                   you find better?       1\n",
       "6  exactly point you are just not high priority l...       1\n",
       "7   the mystery boxes are just ploy get people bu...       1\n",
       "8  seems plenty banks are with strange that revol...       1\n",
       "9                                          yourself        1"
      ]
     },
     "execution_count": 35,
     "metadata": {},
     "output_type": "execute_result"
    }
   ],
   "source": [
    "df.head(10)"
   ]
  },
  {
   "cell_type": "code",
   "execution_count": 36,
   "id": "ad5fade3",
   "metadata": {},
   "outputs": [
    {
     "data": {
      "text/plain": [
       "(18200, 2)"
      ]
     },
     "execution_count": 36,
     "metadata": {},
     "output_type": "execute_result"
    }
   ],
   "source": [
    "df.shape"
   ]
  },
  {
   "cell_type": "markdown",
   "id": "d4687d99",
   "metadata": {},
   "source": [
    "## NLP\n",
    "[link](https://machinelearningmastery.com/natural-language-processing/#:~:text=Natural%20Language%20Processing%2C%20or%20NLP,with%20the%20rise%20of%20computers.)\n",
    "\n",
    "[back to top](#Contents:)"
   ]
  },
  {
   "cell_type": "markdown",
   "id": "72363bb8",
   "metadata": {},
   "source": [
    "### Lemmatize\n",
    "[link](https://www.geeksforgeeks.org/python-lemmatization-with-nltk/#:~:text=Lemmatization%20is%20the%20process%20of,similar%20meanings%20to%20one%20word.)"
   ]
  },
  {
   "cell_type": "code",
   "execution_count": 50,
   "id": "02cb669f",
   "metadata": {},
   "outputs": [],
   "source": [
    "lemmatizer = WordNetLemmatizer()\n",
    "\n",
    "def lemmatize_words(text):\n",
    "    words = text.split()\n",
    "    lemma_words = ''\n",
    "    for word in words:\n",
    "        lemma_words += (lemmatizer.lemmatize(word) + ' ')\n",
    "    return lemma_words"
   ]
  },
  {
   "cell_type": "code",
   "execution_count": 51,
   "id": "38c99918",
   "metadata": {},
   "outputs": [],
   "source": [
    "df['body'] = df['body'].apply(lemmatize_words)"
   ]
  },
  {
   "cell_type": "code",
   "execution_count": 52,
   "id": "b42cf966",
   "metadata": {},
   "outputs": [
    {
     "data": {
      "text/html": [
       "<div>\n",
       "<style scoped>\n",
       "    .dataframe tbody tr th:only-of-type {\n",
       "        vertical-align: middle;\n",
       "    }\n",
       "\n",
       "    .dataframe tbody tr th {\n",
       "        vertical-align: top;\n",
       "    }\n",
       "\n",
       "    .dataframe thead th {\n",
       "        text-align: right;\n",
       "    }\n",
       "</style>\n",
       "<table border=\"1\" class=\"dataframe\">\n",
       "  <thead>\n",
       "    <tr style=\"text-align: right;\">\n",
       "      <th></th>\n",
       "      <th>body</th>\n",
       "      <th>target</th>\n",
       "    </tr>\n",
       "  </thead>\n",
       "  <tbody>\n",
       "    <tr>\n",
       "      <th>0</th>\n",
       "      <td>lol \" going postpone all our card need stand !...</td>\n",
       "      <td>1</td>\n",
       "    </tr>\n",
       "    <tr>\n",
       "      <th>1</th>\n",
       "      <td>rose gold doe not look like how the website sh...</td>\n",
       "      <td>1</td>\n",
       "    </tr>\n",
       "    <tr>\n",
       "      <th>2</th>\n",
       "      <td>cad usdc not :?</td>\n",
       "      <td>1</td>\n",
       "    </tr>\n",
       "    <tr>\n",
       "      <th>3</th>\n",
       "      <td>well said</td>\n",
       "      <td>1</td>\n",
       "    </tr>\n",
       "    <tr>\n",
       "      <th>4</th>\n",
       "      <td>yeah had card stolen same thing annoying but w...</td>\n",
       "      <td>1</td>\n",
       "    </tr>\n",
       "    <tr>\n",
       "      <th>5</th>\n",
       "      <td>you find better?</td>\n",
       "      <td>1</td>\n",
       "    </tr>\n",
       "    <tr>\n",
       "      <th>6</th>\n",
       "      <td>exactly point you are just not high priority l...</td>\n",
       "      <td>1</td>\n",
       "    </tr>\n",
       "    <tr>\n",
       "      <th>7</th>\n",
       "      <td>the mystery box are just ploy get people buy t...</td>\n",
       "      <td>1</td>\n",
       "    </tr>\n",
       "    <tr>\n",
       "      <th>8</th>\n",
       "      <td>seems plenty bank are with strange that revolu...</td>\n",
       "      <td>1</td>\n",
       "    </tr>\n",
       "    <tr>\n",
       "      <th>9</th>\n",
       "      <td>yourself</td>\n",
       "      <td>1</td>\n",
       "    </tr>\n",
       "  </tbody>\n",
       "</table>\n",
       "</div>"
      ],
      "text/plain": [
       "                                                body  target\n",
       "0  lol \" going postpone all our card need stand !...       1\n",
       "1  rose gold doe not look like how the website sh...       1\n",
       "2                                   cad usdc not :?        1\n",
       "3                                         well said        1\n",
       "4  yeah had card stolen same thing annoying but w...       1\n",
       "5                                  you find better?        1\n",
       "6  exactly point you are just not high priority l...       1\n",
       "7  the mystery box are just ploy get people buy t...       1\n",
       "8  seems plenty bank are with strange that revolu...       1\n",
       "9                                          yourself        1"
      ]
     },
     "execution_count": 52,
     "metadata": {},
     "output_type": "execute_result"
    }
   ],
   "source": [
    "df.head(10)"
   ]
  },
  {
   "cell_type": "code",
   "execution_count": 53,
   "id": "02005446",
   "metadata": {},
   "outputs": [
    {
     "data": {
      "text/html": [
       "<div>\n",
       "<style scoped>\n",
       "    .dataframe tbody tr th:only-of-type {\n",
       "        vertical-align: middle;\n",
       "    }\n",
       "\n",
       "    .dataframe tbody tr th {\n",
       "        vertical-align: top;\n",
       "    }\n",
       "\n",
       "    .dataframe thead th {\n",
       "        text-align: right;\n",
       "    }\n",
       "</style>\n",
       "<table border=\"1\" class=\"dataframe\">\n",
       "  <thead>\n",
       "    <tr style=\"text-align: right;\">\n",
       "      <th></th>\n",
       "      <th>body</th>\n",
       "      <th>target</th>\n",
       "    </tr>\n",
       "  </thead>\n",
       "  <tbody>\n",
       "    <tr>\n",
       "      <th>18195</th>\n",
       "      <td>silverback gorilla style</td>\n",
       "      <td>0</td>\n",
       "    </tr>\n",
       "    <tr>\n",
       "      <th>18196</th>\n",
       "      <td>interesting will try that.</td>\n",
       "      <td>0</td>\n",
       "    </tr>\n",
       "    <tr>\n",
       "      <th>18197</th>\n",
       "      <td>carb usually with protein bar rice krispies tr...</td>\n",
       "      <td>0</td>\n",
       "    </tr>\n",
       "    <tr>\n",
       "      <th>18198</th>\n",
       "      <td>usually have cup orange juice then walk the ca...</td>\n",
       "      <td>0</td>\n",
       "    </tr>\n",
       "    <tr>\n",
       "      <th>18199</th>\n",
       "      <td>entirely depends you bro how badly you want th...</td>\n",
       "      <td>0</td>\n",
       "    </tr>\n",
       "  </tbody>\n",
       "</table>\n",
       "</div>"
      ],
      "text/plain": [
       "                                                    body  target\n",
       "18195                          silverback gorilla style        0\n",
       "18196                        interesting will try that.        0\n",
       "18197  carb usually with protein bar rice krispies tr...       0\n",
       "18198  usually have cup orange juice then walk the ca...       0\n",
       "18199  entirely depends you bro how badly you want th...       0"
      ]
     },
     "execution_count": 53,
     "metadata": {},
     "output_type": "execute_result"
    }
   ],
   "source": [
    "df.tail()"
   ]
  },
  {
   "cell_type": "code",
   "execution_count": 54,
   "id": "a904151b",
   "metadata": {},
   "outputs": [
    {
     "data": {
      "text/plain": [
       "(18200, 2)"
      ]
     },
     "execution_count": 54,
     "metadata": {},
     "output_type": "execute_result"
    }
   ],
   "source": [
    "df.shape"
   ]
  },
  {
   "cell_type": "code",
   "execution_count": 55,
   "id": "e65e7728",
   "metadata": {},
   "outputs": [],
   "source": [
    "# drop rows where body is ''\n",
    "df = df[df['body'] != '']\n",
    "df = df.reset_index(drop=True)"
   ]
  },
  {
   "cell_type": "code",
   "execution_count": 56,
   "id": "2e0eec32",
   "metadata": {},
   "outputs": [
    {
     "data": {
      "text/plain": [
       "(18196, 2)"
      ]
     },
     "execution_count": 56,
     "metadata": {},
     "output_type": "execute_result"
    }
   ],
   "source": [
    "df.shape"
   ]
  },
  {
   "cell_type": "code",
   "execution_count": 57,
   "id": "b2f2137f",
   "metadata": {},
   "outputs": [
    {
     "data": {
      "text/html": [
       "<div>\n",
       "<style scoped>\n",
       "    .dataframe tbody tr th:only-of-type {\n",
       "        vertical-align: middle;\n",
       "    }\n",
       "\n",
       "    .dataframe tbody tr th {\n",
       "        vertical-align: top;\n",
       "    }\n",
       "\n",
       "    .dataframe thead th {\n",
       "        text-align: right;\n",
       "    }\n",
       "</style>\n",
       "<table border=\"1\" class=\"dataframe\">\n",
       "  <thead>\n",
       "    <tr style=\"text-align: right;\">\n",
       "      <th></th>\n",
       "      <th>body</th>\n",
       "      <th>target</th>\n",
       "    </tr>\n",
       "  </thead>\n",
       "  <tbody>\n",
       "    <tr>\n",
       "      <th>0</th>\n",
       "      <td>lol \" going postpone all our card need stand !...</td>\n",
       "      <td>1</td>\n",
       "    </tr>\n",
       "    <tr>\n",
       "      <th>1</th>\n",
       "      <td>rose gold doe not look like how the website sh...</td>\n",
       "      <td>1</td>\n",
       "    </tr>\n",
       "    <tr>\n",
       "      <th>2</th>\n",
       "      <td>cad usdc not :?</td>\n",
       "      <td>1</td>\n",
       "    </tr>\n",
       "    <tr>\n",
       "      <th>3</th>\n",
       "      <td>well said</td>\n",
       "      <td>1</td>\n",
       "    </tr>\n",
       "    <tr>\n",
       "      <th>4</th>\n",
       "      <td>yeah had card stolen same thing annoying but w...</td>\n",
       "      <td>1</td>\n",
       "    </tr>\n",
       "  </tbody>\n",
       "</table>\n",
       "</div>"
      ],
      "text/plain": [
       "                                                body  target\n",
       "0  lol \" going postpone all our card need stand !...       1\n",
       "1  rose gold doe not look like how the website sh...       1\n",
       "2                                   cad usdc not :?        1\n",
       "3                                         well said        1\n",
       "4  yeah had card stolen same thing annoying but w...       1"
      ]
     },
     "execution_count": 57,
     "metadata": {},
     "output_type": "execute_result"
    }
   ],
   "source": [
    "df.head()"
   ]
  },
  {
   "cell_type": "code",
   "execution_count": 58,
   "id": "ad9a1841",
   "metadata": {},
   "outputs": [
    {
     "data": {
      "text/html": [
       "<div>\n",
       "<style scoped>\n",
       "    .dataframe tbody tr th:only-of-type {\n",
       "        vertical-align: middle;\n",
       "    }\n",
       "\n",
       "    .dataframe tbody tr th {\n",
       "        vertical-align: top;\n",
       "    }\n",
       "\n",
       "    .dataframe thead th {\n",
       "        text-align: right;\n",
       "    }\n",
       "</style>\n",
       "<table border=\"1\" class=\"dataframe\">\n",
       "  <thead>\n",
       "    <tr style=\"text-align: right;\">\n",
       "      <th></th>\n",
       "      <th>body</th>\n",
       "      <th>target</th>\n",
       "    </tr>\n",
       "  </thead>\n",
       "  <tbody>\n",
       "    <tr>\n",
       "      <th>18191</th>\n",
       "      <td>silverback gorilla style</td>\n",
       "      <td>0</td>\n",
       "    </tr>\n",
       "    <tr>\n",
       "      <th>18192</th>\n",
       "      <td>interesting will try that.</td>\n",
       "      <td>0</td>\n",
       "    </tr>\n",
       "    <tr>\n",
       "      <th>18193</th>\n",
       "      <td>carb usually with protein bar rice krispies tr...</td>\n",
       "      <td>0</td>\n",
       "    </tr>\n",
       "    <tr>\n",
       "      <th>18194</th>\n",
       "      <td>usually have cup orange juice then walk the ca...</td>\n",
       "      <td>0</td>\n",
       "    </tr>\n",
       "    <tr>\n",
       "      <th>18195</th>\n",
       "      <td>entirely depends you bro how badly you want th...</td>\n",
       "      <td>0</td>\n",
       "    </tr>\n",
       "  </tbody>\n",
       "</table>\n",
       "</div>"
      ],
      "text/plain": [
       "                                                    body  target\n",
       "18191                          silverback gorilla style        0\n",
       "18192                        interesting will try that.        0\n",
       "18193  carb usually with protein bar rice krispies tr...       0\n",
       "18194  usually have cup orange juice then walk the ca...       0\n",
       "18195  entirely depends you bro how badly you want th...       0"
      ]
     },
     "execution_count": 58,
     "metadata": {},
     "output_type": "execute_result"
    }
   ],
   "source": [
    "df.tail()"
   ]
  },
  {
   "cell_type": "code",
   "execution_count": 59,
   "id": "b4d91416",
   "metadata": {},
   "outputs": [],
   "source": [
    "df.to_csv('../datasets/combined_comm.csv',index=False)"
   ]
  },
  {
   "cell_type": "code",
   "execution_count": null,
   "id": "4944916a",
   "metadata": {},
   "outputs": [],
   "source": []
  },
  {
   "cell_type": "markdown",
   "id": "e082ff4f",
   "metadata": {},
   "source": [
    "### CountVectorizer\n",
    "[link](https://www.geeksforgeeks.org/using-countvectorizer-to-extracting-features-from-text/)\n",
    "\n",
    "[back to top](#Contents:)"
   ]
  },
  {
   "cell_type": "markdown",
   "id": "ef9004d3",
   "metadata": {},
   "source": [
    "### Most frequent words for r/Crypto_com"
   ]
  },
  {
   "cell_type": "code",
   "execution_count": 60,
   "id": "6d23b070",
   "metadata": {},
   "outputs": [],
   "source": [
    "#top 50 max_features ordered by term frequency across the corpus.\n",
    "count_vect = CountVectorizer(stop_words=\"english\",max_features=50)"
   ]
  },
  {
   "cell_type": "code",
   "execution_count": 62,
   "id": "300f80cd",
   "metadata": {},
   "outputs": [],
   "source": [
    "# input for CountVectorizer is an array of strings\n",
    "vector_crypto = df[df['target'] == 1]['body']"
   ]
  },
  {
   "cell_type": "code",
   "execution_count": 64,
   "id": "d11f2573",
   "metadata": {},
   "outputs": [
    {
     "data": {
      "text/plain": [
       "9138"
      ]
     },
     "execution_count": 64,
     "metadata": {},
     "output_type": "execute_result"
    }
   ],
   "source": [
    "len(vector_crypto)"
   ]
  },
  {
   "cell_type": "code",
   "execution_count": 65,
   "id": "de525a95",
   "metadata": {},
   "outputs": [],
   "source": [
    "# fit_transform the vectorizer\n",
    "crypto_words = count_vect.fit_transform(vector_crypto)"
   ]
  },
  {
   "cell_type": "code",
   "execution_count": 66,
   "id": "28082a63",
   "metadata": {},
   "outputs": [
    {
     "data": {
      "text/plain": [
       "<9138x50 sparse matrix of type '<class 'numpy.int64'>'\n",
       "\twith 24401 stored elements in Compressed Sparse Row format>"
      ]
     },
     "execution_count": 66,
     "metadata": {},
     "output_type": "execute_result"
    }
   ],
   "source": [
    "crypto_words"
   ]
  },
  {
   "cell_type": "code",
   "execution_count": 67,
   "id": "6cdabff7",
   "metadata": {},
   "outputs": [],
   "source": [
    "# Convert output to a numpy array\n",
    "crypto_words = crypto_words.toarray()"
   ]
  },
  {
   "cell_type": "code",
   "execution_count": 68,
   "id": "30ae2100",
   "metadata": {},
   "outputs": [
    {
     "data": {
      "text/plain": [
       "array([[0, 0, 0, ..., 0, 0, 0],\n",
       "       [0, 0, 0, ..., 0, 0, 0],\n",
       "       [0, 0, 0, ..., 0, 0, 0],\n",
       "       ...,\n",
       "       [0, 1, 0, ..., 0, 0, 1],\n",
       "       [0, 0, 0, ..., 0, 0, 0],\n",
       "       [0, 0, 0, ..., 0, 0, 0]])"
      ]
     },
     "execution_count": 68,
     "metadata": {},
     "output_type": "execute_result"
    }
   ],
   "source": [
    "crypto_words"
   ]
  },
  {
   "cell_type": "code",
   "execution_count": 69,
   "id": "5d713e17",
   "metadata": {},
   "outputs": [
    {
     "name": "stdout",
     "output_type": "stream",
     "text": [
      "['account', 'app', 'bank', 'btc', 'buy', 'card', 'cashback', 'cdc', 'coin', 'com', 'cro', 'crypto', 'day', 'don', 'earn', 'exchange', 'fee', 'fiat', 'good', 'got', 'ha', 'just', 'know', 'like', 'make', 'mco', 'money', 'month', 'need', 'new', 'pay', 'people', 'price', 'really', 'right', 'stake', 'support', 'sure', 'thanks', 'thing', 'think', 'time', 'transfer', 'use', 'wa', 'wallet', 'want', 'way', 'work', 'year']\n"
     ]
    }
   ],
   "source": [
    "# List down crypto words\n",
    "crypto_word_ls = count_vect.get_feature_names()\n",
    "print(crypto_word_ls)"
   ]
  },
  {
   "cell_type": "code",
   "execution_count": 73,
   "id": "5952966e",
   "metadata": {},
   "outputs": [
    {
     "data": {
      "image/png": "[encoded data removed]",
      "text/plain": [
       "<Figure size 1080x576 with 1 Axes>"
      ]
     },
     "metadata": {
      "needs_background": "light"
     },
     "output_type": "display_data"
    }
   ],
   "source": [
    "# https://stackoverflow.com/questions/45588724/generating-word-cloud-for-items-in-a-list-in-python\n",
    "# Convert list to string in order to generate wordcloud.\n",
    "\n",
    "crypto_string=(' ').join(crypto_word_ls)\n",
    "wordcloud = WordCloud(width = 1000, height = 500).generate(crypto_string)\n",
    "plt.figure(figsize=(15,8))\n",
    "plt.imshow(wordcloud)\n",
    "plt.axis(\"off\")\n",
    "plt.savefig(\"../images/crypto_cloud\"+\".png\", bbox_inches='tight')\n",
    "plt.show()\n",
    "plt.close()"
   ]
  },
  {
   "cell_type": "markdown",
   "id": "17df9cbf",
   "metadata": {},
   "source": [
    " From the above word cloud we can observe that some of the freqeuntly used words in r/Crypto_com are **\"account\",\"btc\",\"bank\",\"card\",\"cashback\"**."
   ]
  },
  {
   "cell_type": "markdown",
   "id": "50cb9a5e",
   "metadata": {},
   "source": [
    "### Most frequent words for r/bodyweightfitness"
   ]
  },
  {
   "cell_type": "code",
   "execution_count": 74,
   "id": "64b4c4de",
   "metadata": {},
   "outputs": [],
   "source": [
    "#top 50 max_features ordered by term frequency across the corpus.\n",
    "count_vect = CountVectorizer(stop_words=\"english\",max_features=50)\n",
    "\n",
    "# input for CountVectorizer is an array of strings\n",
    "vector_fitness = df[df['target'] == 0]['body']\n",
    "\n",
    "# fit_transform the vectorizer\n",
    "fitness_words = count_vect.fit_transform(vector_fitness)\n",
    "\n",
    "# Convert output to a numpy array\n",
    "fitness_words = fitness_words.toarray()"
   ]
  },
  {
   "cell_type": "code",
   "execution_count": 75,
   "id": "bc5ab341",
   "metadata": {},
   "outputs": [
    {
     "name": "stdout",
     "output_type": "stream",
     "text": [
      "['bar', 'better', 'body', 'day', 'dip', 'doing', 'don', 'exercise', 'feel', 'going', 'good', 'help', 'just', 'know', 'leg', 'like', 'look', 'lot', 'make', 'movement', 'muscle', 'need', 'people', 'pull', 'push', 'pushup', 'really', 'rep', 'rest', 'ring', 'routine', 'set', 'squat', 'start', 'strength', 'thanks', 'thing', 'think', 'time', 'training', 'try', 'ups', 'use', 'wa', 'want', 'way', 'week', 'weight', 'work', 'workout']\n"
     ]
    }
   ],
   "source": [
    "# List down fitness words\n",
    "fitness_word_ls = count_vect.get_feature_names()\n",
    "print(fitness_word_ls)"
   ]
  },
  {
   "cell_type": "code",
   "execution_count": 76,
   "id": "4f5dabb8",
   "metadata": {},
   "outputs": [
    {
     "data": {
      "image/png": "[encoded data removed]",
      "text/plain": [
       "<Figure size 1080x576 with 1 Axes>"
      ]
     },
     "metadata": {
      "needs_background": "light"
     },
     "output_type": "display_data"
    }
   ],
   "source": [
    "# https://stackoverflow.com/questions/45588724/generating-word-cloud-for-items-in-a-list-in-python\n",
    "# Convert list to string in order to generate wordcloud.\n",
    "\n",
    "fitness_string=(' ').join(fitness_word_ls)\n",
    "wordcloud = WordCloud(width = 1000, height = 500).generate(fitness_string)\n",
    "plt.figure(figsize=(15,8))\n",
    "plt.imshow(wordcloud)\n",
    "plt.axis(\"off\")\n",
    "plt.savefig(\"../images/fitness_cloud\"+\".png\", bbox_inches='tight')\n",
    "plt.show()\n",
    "plt.close()"
   ]
  },
  {
   "cell_type": "markdown",
   "id": "394992f3",
   "metadata": {},
   "source": [
    "From the above word cloud we can observe that some of the freqeuntly used words in r/bodyweightfitness are **\"better\",\"bar\",\"day\",\"body\",\"excercise\".**"
   ]
  },
  {
   "cell_type": "markdown",
   "id": "231f71ec",
   "metadata": {},
   "source": [
    "### List of frequently used words for both subreddit."
   ]
  },
  {
   "cell_type": "code",
   "execution_count": 78,
   "id": "59953793",
   "metadata": {},
   "outputs": [],
   "source": [
    "# ['account', 'app', 'bank', 'btc', 'buy', 'card', 'cashback', 'cdc', \n",
    "#  'coin', 'com', 'cro', 'crypto', 'day', 'don', 'earn', 'exchange', 'fee', 'fiat', \n",
    "#  'good', 'got', 'ha', 'just', 'know', 'like', 'make', 'mco', 'money', 'month', 'need', \n",
    "#  'new', 'pay', 'people', 'price', 'really', 'right', 'stake', 'support', 'sure', 'thanks', 'thing', \n",
    "#  'think', 'time', 'transfer', 'use', 'wa', 'wallet', 'want', 'way', 'work', 'year']\n",
    "\n",
    "# ['bar', 'better', 'body', 'day', 'dip', 'doing', 'don', 'exercise', 'feel', \n",
    "#  'going', 'good', 'help', 'just', 'know', 'leg', 'like', 'look', 'lot', 'make', \n",
    "#  'movement', 'muscle', 'need', 'people', 'pull', 'push', 'pushup', 'really', 'rep', 'rest', \n",
    "#  'ring', 'routine', 'set', 'squat', 'start', 'strength', 'thanks', 'thing', 'think', 'time', \n",
    "#  'training', 'try', 'ups', 'use', 'wa', 'want', 'way', 'week', 'weight', 'work', 'workout']"
   ]
  },
  {
   "cell_type": "code",
   "execution_count": 80,
   "id": "2ec37ec7",
   "metadata": {},
   "outputs": [
    {
     "name": "stdout",
     "output_type": "stream",
     "text": [
      "frozenset({'toward', 'eg', 'sixty', 'already', 'next', 'up', 'most', 'first', 'between', 'anywhere', 'move', 'against', 'himself', 'neither', 'among', 'am', 'therefore', 'across', 'become', 'etc', 'de', 'be', 'nine', 'fifteen', 'herein', 'may', 'no', 'our', 'hereupon', 'thereby', 'becoming', 'bottom', 'whereas', 'sometime', 'were', 'keep', 'another', 'each', 'whether', 'whole', 'will', 'almost', 'thereupon', 'wa', 'has', 'ie', 'a', 'hereafter', 'if', 'seem', 'over', 'they', 'became', 'ever', 're', 'going', 'from', 'under', 'someone', 'is', 'never', 'less', 'seems', 'further', 'twelve', 'he', 'him', 'nevertheless', 'with', 'me', 'to', 'because', 'all', 'something', 'put', 'latter', 'anyhow', 'about', 'however', 'mill', 'anyone', 'around', 'ha', 'hundred', 'whenever', 'else', 'former', 'anything', 'found', 'done', 'although', 'becomes', 'thick', 'more', 'since', 'whose', 'could', 'them', 'together', 'but', 'for', 'rather', 'do', 'above', 'before', 'being', 'there', 'into', 'its', 'formerly', 'via', 'once', 'one', 'otherwise', 'through', 'whereby', 'beyond', 'behind', 'everywhere', 'hence', 'somehow', 'same', 'the', 'after', 'afterwards', 'have', 'find', 'yourselves', 'of', 'elsewhere', 'still', 'thus', 'often', 'down', 'six', 'below', 'back', 'please', 'yours', 'amount', 'an', 'should', 'until', 'don', 'un', 'many', 'your', 'eleven', 'can', 'yourself', 'those', 'nobody', 'least', 'sometimes', 'therein', 'moreover', 'whereafter', 'nor', 'then', 'whence', 'whereupon', 'nowhere', 'now', 'per', 'my', 'must', 'at', 'well', 'seeming', 'mostly', 'it', 'detail', 'eight', 'hers', 'except', 'and', 'how', 'every', 'cant', 'i', 'fifty', 'nothing', 'thin', 'inc', 'so', 'their', 'thru', 'co', 'itself', 'own', 'always', 'system', 'only', 'had', 'cannot', 'beside', 'twenty', 'both', 'others', 'off', 'been', 'got', 'very', 'as', 'much', 'everything', 'ten', 'such', 'perhaps', 'front', 'during', 'serious', 'his', 'also', 'herself', 'myself', 'what', 'several', 'while', 'sincere', 'again', 'these', 'too', 'couldnt', 'interest', 'hasnt', 'when', 'not', 'amongst', 'call', 'thence', 'third', 'some', 'here', 'describe', 'mine', 'hereby', 'along', 'none', 'might', 'name', 'give', 'on', 'com', 'noone', 'by', 'take', 'she', 'where', 'thereafter', 'than', 'whatever', 'which', 'was', 'in', 'ours', 'whom', 'fire', 'full', 'go', 'onto', 'whither', 'enough', 'even', 'whoever', 'meanwhile', 'fill', 'throughout', 'wherever', 'show', 'four', 'yet', 'you', 'somewhere', 'besides', 'namely', 'would', 'without', 'con', 'ourselves', 'indeed', 'empty', 'made', 'everyone', 'either', 'seemed', 'latterly', 'last', 'within', 'her', 'who', 'five', 'see', 'part', 'upon', 'side', 'due', 'us', 'alone', 'why', 'we', 'this', 'top', 'get', 'anyway', 'are', 'few', 'forty', 'or', 'themselves', 'beforehand', 'ltd', 'amoungst', 'three', 'out', 'bill', 'any', 'though', 'wherein', 'towards', 'cry', 'that', 'two', 'other'})\n"
     ]
    }
   ],
   "source": [
    "# https://stackoverflow.com/questions/26826002/adding-words-to-stop-words-list-in-tfidfvectorizer-in-sklearn\n",
    "# Update stop words dictionary by adding any words from frequent words lists.\n",
    "\n",
    "text.ENGLISH_STOP_WORDS\n",
    "\n",
    "add_stop_words = ['com','don','got','ha','wa','going']\n",
    "\n",
    "stop_words = text.ENGLISH_STOP_WORDS.union(add_stop_words)\n",
    "\n",
    "print(stop_words)\n"
   ]
  },
  {
   "cell_type": "code",
   "execution_count": null,
   "id": "d60ad20a",
   "metadata": {},
   "outputs": [],
   "source": []
  },
  {
   "cell_type": "markdown",
   "id": "7177242c",
   "metadata": {},
   "source": [
    "### n-gram frequency\n",
    "[link](https://www.analyticsvidhya.com/blog/2021/09/what-are-n-grams-and-how-to-implement-them-in-python/)\n",
    "\n",
    "[back to top](#Contents:)"
   ]
  },
  {
   "cell_type": "markdown",
   "id": "3abc2788",
   "metadata": {},
   "source": [
    "### r/Crypto_com"
   ]
  },
  {
   "cell_type": "code",
   "execution_count": 81,
   "id": "910ed109",
   "metadata": {},
   "outputs": [],
   "source": [
    "# Instantiate the \"CountVectorizer\" object, which is scikit-learn's bag of words tool.\n",
    "# CountVectorizer transforms the body text from the reddit comments into features (i.e. words)\n",
    "# creates columns (vectors) with word counts for each comment\n",
    "\n",
    "count_vect = CountVectorizer(stop_words=stop_words, max_features=10000, ngram_range=(1,3))\n",
    "\n",
    "# input for CountVectorizer is an array of strings\n",
    "vector_crypto = df[df['target'] == 1]['body']\n",
    "\n",
    "# fit_transform the vectorizer\n",
    "crypto_words = count_vect.fit_transform(vector_crypto)\n",
    "\n",
    "# Convert output to a numpy array\n",
    "crypto_words = crypto_words.toarray()"
   ]
  },
  {
   "cell_type": "code",
   "execution_count": 82,
   "id": "c2593623",
   "metadata": {},
   "outputs": [
    {
     "data": {
      "text/plain": [
       "9138"
      ]
     },
     "execution_count": 82,
     "metadata": {},
     "output_type": "execute_result"
    }
   ],
   "source": [
    "len(crypto_words)"
   ]
  },
  {
   "cell_type": "code",
   "execution_count": 83,
   "id": "a3301e79",
   "metadata": {},
   "outputs": [
    {
     "data": {
      "text/plain": [
       "card        2832\n",
       "crypto      1672\n",
       "cro         1344\n",
       "just        1263\n",
       "mco         1040\n",
       "app          938\n",
       "like         893\n",
       "cdc          808\n",
       "use          732\n",
       "time         600\n",
       "think        587\n",
       "day          555\n",
       "exchange     548\n",
       "people       547\n",
       "wallet       528\n",
       "know         520\n",
       "month        515\n",
       "earn         514\n",
       "money        498\n",
       "bank         484\n",
       "make         484\n",
       "fee          482\n",
       "need         481\n",
       "price        467\n",
       "stake        466\n",
       "account      454\n",
       "pay          435\n",
       "coin         434\n",
       "buy          426\n",
       "thanks       426\n",
       "good         417\n",
       "support      416\n",
       "want         402\n",
       "btc          386\n",
       "way          374\n",
       "new          362\n",
       "cashback     357\n",
       "fiat         352\n",
       "really       347\n",
       "work         338\n",
       "sure         329\n",
       "transfer     329\n",
       "thing        328\n",
       "year         327\n",
       "right        322\n",
       "yes          322\n",
       "did          317\n",
       "using        308\n",
       "staking      304\n",
       "say          304\n",
       "dtype: int64"
      ]
     },
     "execution_count": 83,
     "metadata": {},
     "output_type": "execute_result"
    }
   ],
   "source": [
    "# if the array is very large, it's faster to do a sum of the array first (which creates a vector of the sums)\n",
    "# and then combine that with the feature names in a dataframe\n",
    "\n",
    "crypto_matrix = pd.DataFrame(crypto_words, columns=count_vect.get_feature_names())\n",
    "\n",
    "crypto_matrix.sum().sort_values(ascending=False).head(50)"
   ]
  },
  {
   "cell_type": "code",
   "execution_count": 85,
   "id": "f416fe24",
   "metadata": {},
   "outputs": [
    {
     "data": {
      "text/plain": [
       "card        0.309915\n",
       "crypto      0.182972\n",
       "cro         0.147078\n",
       "just        0.138214\n",
       "mco         0.113810\n",
       "app         0.102648\n",
       "like        0.097724\n",
       "cdc         0.088422\n",
       "use         0.080105\n",
       "time        0.065660\n",
       "think       0.064237\n",
       "day         0.060735\n",
       "exchange    0.059969\n",
       "people      0.059860\n",
       "wallet      0.057781\n",
       "know        0.056905\n",
       "month       0.056358\n",
       "earn        0.056249\n",
       "money       0.054498\n",
       "bank        0.052966\n",
       "make        0.052966\n",
       "fee         0.052747\n",
       "need        0.052637\n",
       "price       0.051105\n",
       "stake       0.050996\n",
       "account     0.049683\n",
       "pay         0.047603\n",
       "coin        0.047494\n",
       "buy         0.046619\n",
       "thanks      0.046619\n",
       "good        0.045634\n",
       "support     0.045524\n",
       "want        0.043992\n",
       "btc         0.042241\n",
       "way         0.040928\n",
       "new         0.039615\n",
       "cashback    0.039068\n",
       "fiat        0.038520\n",
       "really      0.037973\n",
       "work        0.036988\n",
       "sure        0.036004\n",
       "transfer    0.036004\n",
       "thing       0.035894\n",
       "year        0.035785\n",
       "right       0.035237\n",
       "yes         0.035237\n",
       "did         0.034690\n",
       "using       0.033705\n",
       "staking     0.033268\n",
       "say         0.033268\n",
       "dtype: float64"
      ]
     },
     "execution_count": 85,
     "metadata": {},
     "output_type": "execute_result"
    }
   ],
   "source": [
    "crypto_matrix.mean().sort_values(ascending=False).head(50)"
   ]
  },
  {
   "cell_type": "markdown",
   "id": "70b3ca1d",
   "metadata": {},
   "source": [
    "### r/bodyweightfitness"
   ]
  },
  {
   "cell_type": "code",
   "execution_count": 86,
   "id": "ee8b6bbb",
   "metadata": {},
   "outputs": [],
   "source": [
    "count_vect = CountVectorizer(stop_words= stop_words,max_features=10000,ngram_range=(1,3))\n",
    "\n",
    "# input for CountVectorizer is an array of strings\n",
    "vector_fitness = df[df['target'] == 0]['body']\n",
    "\n",
    "# fit_transform the vectorizer\n",
    "fitness_words = count_vect.fit_transform(vector_fitness)\n",
    "\n",
    "# Convert output to a numpy array\n",
    "fitness_words = fitness_words.toarray()"
   ]
  },
  {
   "cell_type": "code",
   "execution_count": 87,
   "id": "e3f07785",
   "metadata": {},
   "outputs": [
    {
     "data": {
      "text/plain": [
       "9058"
      ]
     },
     "execution_count": 87,
     "metadata": {},
     "output_type": "execute_result"
    }
   ],
   "source": [
    "len(fitness_words)"
   ]
  },
  {
   "cell_type": "code",
   "execution_count": 88,
   "id": "23cd382b",
   "metadata": {},
   "outputs": [
    {
     "data": {
      "text/plain": [
       "just        2165\n",
       "like        1934\n",
       "pull        1644\n",
       "muscle      1584\n",
       "doing       1556\n",
       "day         1549\n",
       "exercise    1488\n",
       "weight      1408\n",
       "ups         1394\n",
       "good        1380\n",
       "time        1358\n",
       "work        1351\n",
       "body        1262\n",
       "set         1165\n",
       "rep         1092\n",
       "push        1086\n",
       "training    1052\n",
       "workout     1038\n",
       "week        1022\n",
       "strength     953\n",
       "really       949\n",
       "make         926\n",
       "think        914\n",
       "need         888\n",
       "try          863\n",
       "way          860\n",
       "want         827\n",
       "lot          817\n",
       "thing        717\n",
       "people       716\n",
       "better       715\n",
       "routine      694\n",
       "feel         691\n",
       "help         677\n",
       "start        655\n",
       "rest         649\n",
       "leg          647\n",
       "know         644\n",
       "thanks       626\n",
       "ring         622\n",
       "pushup       605\n",
       "squat        599\n",
       "use          596\n",
       "push ups     585\n",
       "look         584\n",
       "bar          580\n",
       "dip          578\n",
       "pull ups     558\n",
       "movement     548\n",
       "year         538\n",
       "dtype: int64"
      ]
     },
     "execution_count": 88,
     "metadata": {},
     "output_type": "execute_result"
    }
   ],
   "source": [
    "fitness_matrix = pd.DataFrame(fitness_words, columns=count_vect.get_feature_names())\n",
    "\n",
    "fitness_matrix.sum().sort_values(ascending=False).head(50)"
   ]
  },
  {
   "cell_type": "code",
   "execution_count": 89,
   "id": "9c877d1f",
   "metadata": {},
   "outputs": [
    {
     "data": {
      "text/plain": [
       "just        0.239015\n",
       "like        0.213513\n",
       "pull        0.181497\n",
       "muscle      0.174873\n",
       "doing       0.171782\n",
       "day         0.171009\n",
       "exercise    0.164275\n",
       "weight      0.155443\n",
       "ups         0.153897\n",
       "good        0.152352\n",
       "time        0.149923\n",
       "work        0.149150\n",
       "body        0.139324\n",
       "set         0.128616\n",
       "rep         0.120556\n",
       "push        0.119894\n",
       "training    0.116140\n",
       "workout     0.114595\n",
       "week        0.112828\n",
       "strength    0.105211\n",
       "really      0.104769\n",
       "make        0.102230\n",
       "think       0.100905\n",
       "need        0.098035\n",
       "try         0.095275\n",
       "way         0.094944\n",
       "want        0.091301\n",
       "lot         0.090197\n",
       "thing       0.079157\n",
       "people      0.079046\n",
       "better      0.078936\n",
       "routine     0.076617\n",
       "feel        0.076286\n",
       "help        0.074741\n",
       "start       0.072312\n",
       "rest        0.071649\n",
       "leg         0.071429\n",
       "know        0.071097\n",
       "thanks      0.069110\n",
       "ring        0.068669\n",
       "pushup      0.066792\n",
       "squat       0.066129\n",
       "use         0.065798\n",
       "push ups    0.064584\n",
       "look        0.064473\n",
       "bar         0.064032\n",
       "dip         0.063811\n",
       "pull ups    0.061603\n",
       "movement    0.060499\n",
       "year        0.059395\n",
       "dtype: float64"
      ]
     },
     "execution_count": 89,
     "metadata": {},
     "output_type": "execute_result"
    }
   ],
   "source": [
    "fitness_matrix.mean().sort_values(ascending=False).head(50)"
   ]
  },
  {
   "cell_type": "markdown",
   "id": "4cd3adee",
   "metadata": {},
   "source": [
    "## TF-IDF Vectorizer\n",
    "### TfidfVectorizer - Transforms text to feature vectors that can be used as input to estimator.\n",
    "[Link](https://stackoverflow.com/questions/25902119/scikit-learn-tfidfvectorizer-meaning)\n",
    "\n",
    "[back to top](#Contents:)"
   ]
  },
  {
   "cell_type": "markdown",
   "id": "e60eb106",
   "metadata": {},
   "source": [
    "### r/Cyprto_com"
   ]
  },
  {
   "cell_type": "code",
   "execution_count": 90,
   "id": "846a66f9",
   "metadata": {},
   "outputs": [
    {
     "data": {
      "text/plain": [
       "card        254.888015\n",
       "crypto      159.524437\n",
       "cro         142.349228\n",
       "just        141.890954\n",
       "mco         115.926913\n",
       "like        109.296450\n",
       "app         108.869935\n",
       "thanks      104.086528\n",
       "use          90.576440\n",
       "cdc          89.465963\n",
       "day          89.054873\n",
       "yes          84.478078\n",
       "think        83.414934\n",
       "know         82.105897\n",
       "time         80.113789\n",
       "exchange     75.612739\n",
       "month        73.210814\n",
       "good         70.390788\n",
       "wallet       66.834071\n",
       "earn         66.809895\n",
       "fee          66.720804\n",
       "need         66.457578\n",
       "people       66.338249\n",
       "stake        66.128439\n",
       "did          65.652314\n",
       "money        65.618371\n",
       "make         63.715833\n",
       "bank         63.424501\n",
       "buy          61.610231\n",
       "support      61.475569\n",
       "pay          60.986864\n",
       "price        59.479177\n",
       "account      58.989787\n",
       "week         58.575633\n",
       "coin         58.129422\n",
       "really       57.803706\n",
       "work         57.521503\n",
       "way          57.108007\n",
       "btc          57.031974\n",
       "want         56.960260\n",
       "year         55.987527\n",
       "yeah         55.509763\n",
       "right        55.408251\n",
       "sure         53.988440\n",
       "cashback     53.535414\n",
       "new          52.808307\n",
       "lol          52.138158\n",
       "thank        50.668629\n",
       "say          50.316100\n",
       "fiat         50.311329\n",
       "dtype: float64"
      ]
     },
     "execution_count": 90,
     "metadata": {},
     "output_type": "execute_result"
    }
   ],
   "source": [
    "tvec = TfidfVectorizer(stop_words=stop_words,max_features= 10000, ngram_range=(1,3))\n",
    "\n",
    "crypto_tf = tvec.fit_transform(vector_crypto)\n",
    "\n",
    "crypto_tf = crypto_tf.toarray()\n",
    "\n",
    "crypto_matrix = pd.DataFrame(crypto_tf, columns= tvec.get_feature_names())\n",
    "\n",
    "crypto_matrix.sum().sort_values(ascending=False).head(50)"
   ]
  },
  {
   "cell_type": "markdown",
   "id": "3f6c53d6",
   "metadata": {},
   "source": [
    "### r/bodyweightfitness"
   ]
  },
  {
   "cell_type": "code",
   "execution_count": 91,
   "id": "06a72af2",
   "metadata": {},
   "outputs": [
    {
     "data": {
      "text/plain": [
       "just        168.985432\n",
       "like        157.286564\n",
       "thanks      141.873283\n",
       "pull        140.584967\n",
       "good        139.111123\n",
       "day         132.493791\n",
       "muscle      124.751492\n",
       "doing       124.667635\n",
       "ups         121.602245\n",
       "exercise    120.926025\n",
       "weight      120.423967\n",
       "work        115.257808\n",
       "time        113.020468\n",
       "body        104.006542\n",
       "workout     100.737235\n",
       "try         100.469722\n",
       "set         100.112225\n",
       "push         97.950527\n",
       "training     94.706933\n",
       "think        94.099035\n",
       "thank        93.951504\n",
       "really       93.592643\n",
       "rep          91.894074\n",
       "week         90.163133\n",
       "make         86.766094\n",
       "strength     85.463189\n",
       "lot          84.516670\n",
       "way          83.050973\n",
       "need         82.654195\n",
       "want         79.728959\n",
       "routine      79.493973\n",
       "look         77.659858\n",
       "people       76.202834\n",
       "help         76.038914\n",
       "ring         73.534247\n",
       "better       73.491315\n",
       "thing        73.442768\n",
       "know         73.403832\n",
       "feel         73.187364\n",
       "bar          69.290408\n",
       "start        69.047395\n",
       "pushup       68.957076\n",
       "leg          68.048004\n",
       "rest         66.698920\n",
       "use          66.298685\n",
       "did          65.673481\n",
       "great        62.313143\n",
       "sure         62.263006\n",
       "squat        61.575308\n",
       "dip          61.563434\n",
       "dtype: float64"
      ]
     },
     "execution_count": 91,
     "metadata": {},
     "output_type": "execute_result"
    }
   ],
   "source": [
    "tvec = TfidfVectorizer(stop_words=stop_words,max_features= 10000, ngram_range=(1,3))\n",
    "\n",
    "fitness_tf = tvec.fit_transform(vector_fitness)\n",
    "\n",
    "fitness_tf = fitness_tf.toarray()\n",
    "\n",
    "fitness_matrix = pd.DataFrame(fitness_tf, columns= tvec.get_feature_names())\n",
    "\n",
    "fitness_matrix.sum().sort_values(ascending=False).head(50)"
   ]
  },
  {
   "cell_type": "code",
   "execution_count": null,
   "id": "480dd2aa",
   "metadata": {},
   "outputs": [],
   "source": []
  }
 ],
 "metadata": {
  "kernelspec": {
   "display_name": "Python 3",
   "language": "python",
   "name": "python3"
  },
  "language_info": {
   "codemirror_mode": {
    "name": "ipython",
    "version": 3
   },
   "file_extension": ".py",
   "mimetype": "text/x-python",
   "name": "python",
   "nbconvert_exporter": "python",
   "pygments_lexer": "ipython3",
   "version": "3.8.8"
  }
 },
 "nbformat": 4,
 "nbformat_minor": 5
}
