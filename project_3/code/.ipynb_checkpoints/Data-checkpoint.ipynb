{
 "cells": [
  {
   "cell_type": "code",
   "execution_count": 19,
   "id": "74f1dd7e",
   "metadata": {},
   "outputs": [],
   "source": [
    "import requests\n",
    "import pandas as pd"
   ]
  },
  {
   "cell_type": "code",
   "execution_count": 20,
   "id": "102007b0",
   "metadata": {},
   "outputs": [],
   "source": [
    "url = 'https://api.pushshift.io/reddit/search/submission'"
   ]
  },
  {
   "cell_type": "code",
   "execution_count": 46,
   "id": "37fce7a8",
   "metadata": {},
   "outputs": [],
   "source": [
    "params = {\n",
    "    'subreddit': 'Crypto_com',\n",
    "    'size': 100,\n",
    "    'before': 1645601209\n",
    "}"
   ]
  },
  {
   "cell_type": "code",
   "execution_count": 47,
   "id": "26d29fa7",
   "metadata": {},
   "outputs": [],
   "source": [
    "res = requests.get(url, params)"
   ]
  },
  {
   "cell_type": "code",
   "execution_count": 48,
   "id": "72b2b466",
   "metadata": {},
   "outputs": [
    {
     "data": {
      "text/plain": [
       "200"
      ]
     },
     "execution_count": 48,
     "metadata": {},
     "output_type": "execute_result"
    }
   ],
   "source": [
    "res.status_code"
   ]
  },
  {
   "cell_type": "code",
   "execution_count": 49,
   "id": "ab8fb810",
   "metadata": {},
   "outputs": [],
   "source": [
    "data = res.json()"
   ]
  },
  {
   "cell_type": "code",
   "execution_count": 50,
   "id": "e0ddb40d",
   "metadata": {},
   "outputs": [],
   "source": [
    "post = data['data']"
   ]
  },
  {
   "cell_type": "code",
   "execution_count": 51,
   "id": "52ad00cb",
   "metadata": {},
   "outputs": [
    {
     "data": {
      "text/plain": [
       "100"
      ]
     },
     "execution_count": 51,
     "metadata": {},
     "output_type": "execute_result"
    }
   ],
   "source": [
    "len(post)"
   ]
  },
  {
   "cell_type": "code",
   "execution_count": 52,
   "id": "fe9e08c1",
   "metadata": {},
   "outputs": [
    {
     "data": {
      "text/plain": [
       "{'all_awardings': [],\n",
       " 'allow_live_comments': False,\n",
       " 'author': 'ballllls84',\n",
       " 'author_flair_css_class': None,\n",
       " 'author_flair_richtext': [],\n",
       " 'author_flair_text': None,\n",
       " 'author_flair_type': 'text',\n",
       " 'author_fullname': 't2_2n9kx6px',\n",
       " 'author_is_blocked': False,\n",
       " 'author_patreon_flair': False,\n",
       " 'author_premium': False,\n",
       " 'awarders': [],\n",
       " 'can_mod_post': False,\n",
       " 'contest_mode': False,\n",
       " 'created_utc': 1645600857,\n",
       " 'domain': 'self.Crypto_com',\n",
       " 'full_link': 'https://www.reddit.com/r/Crypto_com/comments/szbdfb/best_and_cheapest_way_to_deposit_earn_rewards_to/',\n",
       " 'gildings': {},\n",
       " 'id': 'szbdfb',\n",
       " 'is_created_from_ads_ui': False,\n",
       " 'is_crosspostable': True,\n",
       " 'is_meta': False,\n",
       " 'is_original_content': False,\n",
       " 'is_reddit_media_domain': False,\n",
       " 'is_robot_indexable': True,\n",
       " 'is_self': True,\n",
       " 'is_video': False,\n",
       " 'link_flair_background_color': '#002d74',\n",
       " 'link_flair_richtext': [],\n",
       " 'link_flair_template_id': 'fac7a9ac-eebf-11eb-9691-421b0c807008',\n",
       " 'link_flair_text': 'Crypto.com App 📱',\n",
       " 'link_flair_text_color': 'light',\n",
       " 'link_flair_type': 'text',\n",
       " 'locked': False,\n",
       " 'media_only': False,\n",
       " 'no_follow': True,\n",
       " 'num_comments': 0,\n",
       " 'num_crossposts': 0,\n",
       " 'over_18': False,\n",
       " 'parent_whitelist_status': 'all_ads',\n",
       " 'permalink': '/r/Crypto_com/comments/szbdfb/best_and_cheapest_way_to_deposit_earn_rewards_to/',\n",
       " 'pinned': False,\n",
       " 'pwls': 6,\n",
       " 'retrieved_on': 1645600868,\n",
       " 'score': 1,\n",
       " 'selftext': 'Hey fam \\n\\nAs subject states. What’s the most cost effective way to sell my earn rewards and deposit the funds to my card?\\n\\nOption 1: sell rewards for stable coin —&gt; make mission rewards when eligible —&gt; top up card.\\nOption 2: top up card with earned crypto, which is automatically converted to fiat on card (miss out on mission rewards)\\n\\nWithout knowing or haven taken the time to check the fine writing, I’d assume the app takes a nice fat fee for trading and converting.',\n",
       " 'send_replies': True,\n",
       " 'spoiler': False,\n",
       " 'stickied': False,\n",
       " 'subreddit': 'Crypto_com',\n",
       " 'subreddit_id': 't5_ldcor',\n",
       " 'subreddit_subscribers': 158054,\n",
       " 'subreddit_type': 'public',\n",
       " 'thumbnail': 'self',\n",
       " 'title': 'Best and cheapest way to deposit earn rewards to card (icy white)?',\n",
       " 'total_awards_received': 0,\n",
       " 'treatment_tags': [],\n",
       " 'upvote_ratio': 1.0,\n",
       " 'url': 'https://www.reddit.com/r/Crypto_com/comments/szbdfb/best_and_cheapest_way_to_deposit_earn_rewards_to/',\n",
       " 'whitelist_status': 'all_ads',\n",
       " 'wls': 6}"
      ]
     },
     "execution_count": 52,
     "metadata": {},
     "output_type": "execute_result"
    }
   ],
   "source": [
    "post[0]"
   ]
  },
  {
   "cell_type": "code",
   "execution_count": 34,
   "id": "ed3e91d8",
   "metadata": {},
   "outputs": [],
   "source": [
    "df = pd.DataFrame(post)"
   ]
  },
  {
   "cell_type": "code",
   "execution_count": 38,
   "id": "a2191d04",
   "metadata": {},
   "outputs": [
    {
     "data": {
      "text/html": [
       "<div>\n",
       "<style scoped>\n",
       "    .dataframe tbody tr th:only-of-type {\n",
       "        vertical-align: middle;\n",
       "    }\n",
       "\n",
       "    .dataframe tbody tr th {\n",
       "        vertical-align: top;\n",
       "    }\n",
       "\n",
       "    .dataframe thead th {\n",
       "        text-align: right;\n",
       "    }\n",
       "</style>\n",
       "<table border=\"1\" class=\"dataframe\">\n",
       "  <thead>\n",
       "    <tr style=\"text-align: right;\">\n",
       "      <th></th>\n",
       "      <th>subreddit</th>\n",
       "      <th>selftext</th>\n",
       "      <th>title</th>\n",
       "    </tr>\n",
       "  </thead>\n",
       "  <tbody>\n",
       "    <tr>\n",
       "      <th>0</th>\n",
       "      <td>Crypto_com</td>\n",
       "      <td></td>\n",
       "      <td>If you missed them, these exchanges ran ads du...</td>\n",
       "    </tr>\n",
       "    <tr>\n",
       "      <th>1</th>\n",
       "      <td>Crypto_com</td>\n",
       "      <td>Hey fam \\n\\nAs subject states. What’s the most...</td>\n",
       "      <td>Best and cheapest way to deposit earn rewards ...</td>\n",
       "    </tr>\n",
       "    <tr>\n",
       "      <th>2</th>\n",
       "      <td>Crypto_com</td>\n",
       "      <td>Pretty stoked to receive this finally.\\n\\nShow...</td>\n",
       "      <td>Received my Jade today in Poland. Took one mon...</td>\n",
       "    </tr>\n",
       "    <tr>\n",
       "      <th>3</th>\n",
       "      <td>Crypto_com</td>\n",
       "      <td>&amp;amp;#x200B;\\n\\n*Processing img wnn03h319jj81....</td>\n",
       "      <td>Weekly Layers 1 &amp;amp; 2 Update (Week 7, 15/02/...</td>\n",
       "    </tr>\n",
       "    <tr>\n",
       "      <th>4</th>\n",
       "      <td>Crypto_com</td>\n",
       "      <td>Hello Cromies. I bought my first crypto in Dec...</td>\n",
       "      <td>crypto.com app vs defi wallet vs coinbase pro ...</td>\n",
       "    </tr>\n",
       "  </tbody>\n",
       "</table>\n",
       "</div>"
      ],
      "text/plain": [
       "    subreddit                                           selftext  \\\n",
       "0  Crypto_com                                                      \n",
       "1  Crypto_com  Hey fam \\n\\nAs subject states. What’s the most...   \n",
       "2  Crypto_com  Pretty stoked to receive this finally.\\n\\nShow...   \n",
       "3  Crypto_com  &amp;#x200B;\\n\\n*Processing img wnn03h319jj81....   \n",
       "4  Crypto_com  Hello Cromies. I bought my first crypto in Dec...   \n",
       "\n",
       "                                               title  \n",
       "0  If you missed them, these exchanges ran ads du...  \n",
       "1  Best and cheapest way to deposit earn rewards ...  \n",
       "2  Received my Jade today in Poland. Took one mon...  \n",
       "3  Weekly Layers 1 &amp; 2 Update (Week 7, 15/02/...  \n",
       "4  crypto.com app vs defi wallet vs coinbase pro ...  "
      ]
     },
     "execution_count": 38,
     "metadata": {},
     "output_type": "execute_result"
    }
   ],
   "source": [
    "df[['subreddit','selftext','title']].head()"
   ]
  },
  {
   "cell_type": "code",
   "execution_count": 53,
   "id": "3616e5db",
   "metadata": {},
   "outputs": [],
   "source": [
    "url = \"http://api.pushshift.io/reddit/search/comment?subreddit=Crypto_com&size=500\""
   ]
  },
  {
   "cell_type": "code",
   "execution_count": 54,
   "id": "ebe8628f",
   "metadata": {},
   "outputs": [],
   "source": [
    "res = requests.get(url)"
   ]
  },
  {
   "cell_type": "code",
   "execution_count": 55,
   "id": "1e877032",
   "metadata": {},
   "outputs": [
    {
     "data": {
      "text/plain": [
       "200"
      ]
     },
     "execution_count": 55,
     "metadata": {},
     "output_type": "execute_result"
    }
   ],
   "source": [
    "res.status_code"
   ]
  },
  {
   "cell_type": "code",
   "execution_count": 56,
   "id": "d5517b3c",
   "metadata": {},
   "outputs": [],
   "source": [
    "data = res.json()"
   ]
  },
  {
   "cell_type": "code",
   "execution_count": 57,
   "id": "e7dad191",
   "metadata": {},
   "outputs": [],
   "source": [
    "posts = data['data']"
   ]
  },
  {
   "cell_type": "code",
   "execution_count": 58,
   "id": "e1f519bb",
   "metadata": {},
   "outputs": [
    {
     "data": {
      "text/plain": [
       "100"
      ]
     },
     "execution_count": 58,
     "metadata": {},
     "output_type": "execute_result"
    }
   ],
   "source": [
    "len(posts)"
   ]
  },
  {
   "cell_type": "code",
   "execution_count": null,
   "id": "431a07e3",
   "metadata": {},
   "outputs": [],
   "source": []
  }
 ],
 "metadata": {
  "kernelspec": {
   "display_name": "Python 3",
   "language": "python",
   "name": "python3"
  },
  "language_info": {
   "codemirror_mode": {
    "name": "ipython",
    "version": 3
   },
   "file_extension": ".py",
   "mimetype": "text/x-python",
   "name": "python",
   "nbconvert_exporter": "python",
   "pygments_lexer": "ipython3",
   "version": "3.8.8"
  }
 },
 "nbformat": 4,
 "nbformat_minor": 5
}
